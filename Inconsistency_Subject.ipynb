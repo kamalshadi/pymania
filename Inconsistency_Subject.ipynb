{
 "cells": [
  {
   "cell_type": "code",
   "execution_count": 1,
   "metadata": {},
   "outputs": [],
   "source": [
    "import collections, random\n",
    "import numpy as np\n",
    "import pickle as pk\n",
    "import pymania as mn\n",
    "import matplotlib.pyplot as plt\n",
    "\n",
    "from collections import Counter\n",
    "from py2neo import Node, Relationship, Graph\n",
    "from IPython.display import display, HTML\n",
    "\n",
    "graph = Graph(host=\"canopus.cc.gatech.edu\",password='1234')\n",
    "subjects = set([126426, 137431, 144125, 146735, 152427, 153227, 177140, 180533, 186545, 188145])"
   ]
  },
  {
   "cell_type": "markdown",
   "metadata": {},
   "source": [
    "# Select Inconsistent links where the Reverse Connections are consistent\n",
    "\n",
    "We start with selecting the links which are inconsistent across subjects. Inconsistency here refers to the link between a specific source and target nodes present in half of the subjects. With the 10 subjects chosen, we choose the links which are present in 5 subjects and not present in the other 5."
   ]
  },
  {
   "cell_type": "code",
   "execution_count": 2,
   "metadata": {},
   "outputs": [],
   "source": [
    "query = '''MATCH (n:ROI)-[r:MANIA2]->(m:ROI)\n",
    "WHERE r.SUBJECT IN [126426, 137431, 144125, 146735, 152427, 153227, 177140, 180533, 186545, 188145] AND n.name STARTS WITH 'L' AND r.is_connected=TRUE\n",
    "WITH n.name AS source, m.name AS target, r.SUBJECT AS subject, r.correction_type as correction_type\n",
    "WITH source, target, COUNT(*) AS connections, COLLECT(subject) AS subjects, COLLECT(correction_type) as correction_types WHERE connections=5\n",
    "RETURN source, target, subjects, correction_types order by source, target'''\n",
    "inconsistent_links = graph.run(query).data()\n",
    "\n",
    "l = len(inconsistent_links)"
   ]
  },
  {
   "cell_type": "code",
   "execution_count": 3,
   "metadata": {},
   "outputs": [
    {
     "data": {
      "text/html": [
       "<h4>Inconsistent Connections with consistent reverse connections</h4>Total inconsistent connections: 852<table><tr><th>Source</th><th>Target</th><th># Reverse Connections</th></tr><tr><td>L1</td><td>L167</td><td>9</td></tr><tr><td>L119</td><td>L155</td><td>10</td></tr><tr><td>L120</td><td>L126</td><td>8</td></tr><tr><td>L142</td><td>L45</td><td>8</td></tr><tr><td>L173</td><td>L115</td><td>8</td></tr><tr><td>L62</td><td>L72</td><td>2</td></tr><tr><td>L88</td><td>L61</td><td>8</td></tr></table>Total consistent reverse connections: 7"
      ],
      "text/plain": [
       "<IPython.core.display.HTML object>"
      ]
     },
     "metadata": {},
     "output_type": "display_data"
    }
   ],
   "source": [
    "selected_rois = []\n",
    "roi_counts = dict()\n",
    "html_inc = '<h4>Inconsistent Connections with consistent reverse connections</h4>'\n",
    "html_inc += f'Total inconsistent connections: {l}'\n",
    "html_inc += '<table><tr><th>Source</th><th>Target</th><th># Reverse Connections</th></tr>'\n",
    "for i in range(l):\n",
    "    source, target = inconsistent_links[i]['source'], inconsistent_links[i]['target']\n",
    "    query = f\"MATCH (n:ROI)-[r:MANIA2]->(m:ROI) WHERE n.name='{target}' AND m.name='{source}' AND r.is_connected=TRUE \"\n",
    "    query += \"AND r.SUBJECT IN [126426, 137431, 144125, 146735, 152427, 153227, 177140, 180533, 186545, 188145] \"\n",
    "    query += \"RETURN r.SUBJECT as subject, r.correction_type as correction_type\"\n",
    "    rev = graph.run(query).data()\n",
    "    num_rev = len(rev)\n",
    "    if num_rev not in roi_counts: roi_counts[num_rev] = 0\n",
    "    roi_counts[num_rev] += 1\n",
    "    if num_rev < 3 or num_rev > 7:\n",
    "        rev_dict = {'source':source, 'target':target, 'num_rev':num_rev}\n",
    "        selected_rois.append(rev_dict)\n",
    "        html_inc += f'<tr><td>{source}</td><td>{target}</td><td>{num_rev}</td></tr>' \n",
    "    query = f\"MATCH (n:ROI)-[r:MANIA2]->(m:ROI) WHERE n.name='{target}' AND m.name='{source}' AND r.is_connected=FALSE \"\n",
    "    query += \"AND r.SUBJECT IN [126426, 137431, 144125, 146735, 152427, 153227, 177140, 180533, 186545, 188145] \"\n",
    "    query += \"RETURN r.SUBJECT as subject, r.correction_type as correction_type\"\n",
    "    rev = graph.run(query).data()\n",
    "    num_rev = len(rev)\n",
    "    if num_rev == 10:\n",
    "        rev_dict = {'source':source, 'target':target, 'num_rev':0}\n",
    "        selected_rois.append(rev_dict)\n",
    "        html_inc += f'<tr><td>{source}</td><td>{target}</td><td>0</td></tr>'\n",
    "html_inc += f'</table>Total consistent reverse connections: {len(selected_rois)}'\n",
    "display(HTML(html_inc))"
   ]
  },
  {
   "cell_type": "markdown",
   "metadata": {},
   "source": [
    "We see that that although there are 852 inconsistent connections, only 7 of them have the reverse connections which are consistent. The consistency here refers to the reverse link being present or absent in 8 or more subjects.\n",
    "\n",
    "Given that there are very few inconsistent links where the reverse links are consistent, we intend to see the distribution of the reverse links for all the inconsistent links."
   ]
  },
  {
   "cell_type": "code",
   "execution_count": 4,
   "metadata": {},
   "outputs": [
    {
     "data": {
      "text/html": [
       "<table><tr><th>#Subjects Connected</th><th># Links</th></tr><tr><td>2</td><td>1</td></tr><tr><td>3</td><td>9</td></tr><tr><td>4</td><td>48</td></tr><tr><td>5</td><td>722</td></tr><tr><td>6</td><td>50</td></tr><tr><td>7</td><td>16</td></tr><tr><td>8</td><td>4</td></tr><tr><td>9</td><td>1</td></tr><tr><td>10</td><td>1</td></tr></table>"
      ],
      "text/plain": [
       "<IPython.core.display.HTML object>"
      ]
     },
     "metadata": {},
     "output_type": "display_data"
    }
   ],
   "source": [
    "html = '<table><tr><th>#Subjects Connected</th><th># Links</th></tr>'\n",
    "for k, v in collections.OrderedDict(sorted(roi_counts.items())).items():\n",
    "    html += f'<tr><td>{k}</td><td>{v}</td></tr>'\n",
    "html +='</table>'\n",
    "display(HTML(html))"
   ]
  },
  {
   "cell_type": "markdown",
   "metadata": {},
   "source": [
    "This table should be read as of the 852 inconsistent connections, 722 reverse connections was connected in 5 subjects and so on.\n",
    "\n",
    "We see that most of the reverse connections corresponding to the _inconsistent connections_ are also inconsistent. There are only very few links which are inconsistent in one direction and consistent in the other."
   ]
  },
  {
   "cell_type": "markdown",
   "metadata": {},
   "source": [
    "# Inconsistency within a Subject\n",
    "\n",
    "Having verified that the inconsistent links have mostly inconsistent reverse links, we next investigate the inconsistency of links within a subject.\n",
    "\n",
    "We start with our hypothesis that within a subject, there reverse connection should be present for all the connections detected. We start with verifying the number of links for each subject where a link is present in one direction and not the reverse direction."
   ]
  },
  {
   "cell_type": "code",
   "execution_count": 5,
   "metadata": {},
   "outputs": [],
   "source": [
    "query = '''MATCH (n:ROI)-[r:MANIA2]->(m:ROI)\n",
    "WHERE r.SUBJECT IN [126426, 137431, 144125, 146735, 152427, 153227, 177140, 180533, 186545, 188145] AND n.name STARTS WITH 'L' AND r.is_connected=TRUE\n",
    "RETURN n.name AS source, m.name AS target, r.SUBJECT AS subject'''\n",
    "data = graph.run(query).data()\n",
    "\n",
    "links = dict()\n",
    "for sub in subjects:\n",
    "    links[sub] = set()\n",
    "l = len(data)\n",
    "for i in range(l):\n",
    "    src, dst, sub = data[i]['source'], data[i]['target'], data[i]['subject']\n",
    "    links[sub].add((src, dst))"
   ]
  },
  {
   "cell_type": "code",
   "execution_count": 6,
   "metadata": {},
   "outputs": [],
   "source": [
    "mismatch = {sub:0 for sub in subjects}\n",
    "total_links = {sub:0 for sub in subjects}\n",
    "for sub in links:\n",
    "    for link in links[sub]:\n",
    "        src, dst = link\n",
    "        total_links[sub] += 1\n",
    "        if (dst, src) not in links[sub]:\n",
    "            mismatch[sub] += 1"
   ]
  },
  {
   "cell_type": "code",
   "execution_count": 7,
   "metadata": {},
   "outputs": [
    {
     "data": {
      "text/html": [
       "<table><tr><th>Subject ID</th><th>Total Links</th><th># Links with no reverse links</th><th>Percentage of links with no reverse links</th></tr><tr><td>152427</td><td>5957</td><td>69</td><td>1.16%</td></tr><tr><td>153227</td><td>6437</td><td>75</td><td>1.17%</td></tr><tr><td>146735</td><td>6444</td><td>62</td><td>0.96%</td></tr><tr><td>186545</td><td>6169</td><td>81</td><td>1.31%</td></tr><tr><td>188145</td><td>6157</td><td>85</td><td>1.38%</td></tr><tr><td>177140</td><td>6379</td><td>93</td><td>1.46%</td></tr><tr><td>180533</td><td>5463</td><td>81</td><td>1.48%</td></tr><tr><td>137431</td><td>6461</td><td>91</td><td>1.41%</td></tr><tr><td>126426</td><td>6623</td><td>65</td><td>0.98%</td></tr><tr><td>144125</td><td>6203</td><td>79</td><td>1.27%</td></tr></table>"
      ],
      "text/plain": [
       "<IPython.core.display.HTML object>"
      ]
     },
     "metadata": {},
     "output_type": "display_data"
    }
   ],
   "source": [
    "html = '<table><tr><th>Subject ID</th><th>Total Links</th><th># Links with no reverse links</th><th>Percentage of links with no reverse links</th></tr>'\n",
    "for sub in subjects:\n",
    "    per = '%3.2f' % (mismatch[sub]*100./total_links[sub])\n",
    "    html += f'<tr><td>{sub}</td><td>{total_links[sub]}</td><td>{mismatch[sub]}</td><td>{per}%</td></tr>'\n",
    "html += '</table>'\n",
    "display(HTML(html))"
   ]
  },
  {
   "cell_type": "markdown",
   "metadata": {},
   "source": [
    "We see that less than 1.5% of the connections does not have reverse connections, corresponding to each subject. Although this number is small, we want to compare this with the overall inconsistency across subjects.\n",
    "\n",
    "# Inconsistency across Subjects"
   ]
  },
  {
   "cell_type": "code",
   "execution_count": 8,
   "metadata": {},
   "outputs": [],
   "source": [
    "connections = dict()\n",
    "total_connections = 0\n",
    "\n",
    "query = \"\"\"MATCH (n:ROI)-[r:MANIA2]->(m:ROI)\n",
    "WHERE r.SUBJECT IN [126426, 137431, 144125, 146735, 152427, 153227, 177140, 180533, 186545, 188145] AND n.name STARTS WITH 'L' AND r.is_connected=TRUE\n",
    "WITH n.name AS source, m.name AS target, COUNT(*) AS connections\n",
    "RETURN connections, COUNT(*) AS links\"\"\"\n",
    "links = graph.run(query).data()\n",
    "for link in links:\n",
    "    connections[link['connections']] = link['links']\n",
    "    total_connections += link['links']\n",
    "\n",
    "query = \"\"\"MATCH (n:ROI)-[r:MANIA2]->(m:ROI)\n",
    "WHERE r.SUBJECT IN [126426, 137431, 144125, 146735, 152427, 153227, 177140, 180533, 186545, 188145] AND n.name STARTS WITH 'L' AND r.is_connected=FALSE\n",
    "WITH n.name AS source, m.name AS target, COUNT(*) AS connections WHERE connections=10\n",
    "RETURN connections, COUNT(*) AS links\"\"\"\n",
    "no_links = graph.run(query).data()\n",
    "for link in no_links:\n",
    "    connections[10-link['connections']] = link['links']"
   ]
  },
  {
   "cell_type": "code",
   "execution_count": 9,
   "metadata": {},
   "outputs": [
    {
     "data": {
      "text/html": [
       "<table><tr><th>#Subjects Connected</th><th># Links</th><th>Total Links</th><th>% of Links</th></tr><tr><td>0</td><td>18719</td><td>0</td><td>--%</td></tr><tr><td>1</td><td>3428</td><td>3428</td><td>25.39%</td></tr><tr><td>2</td><td>1859</td><td>3718</td><td>13.77%</td></tr><tr><td>3</td><td>1291</td><td>3873</td><td>9.56%</td></tr><tr><td>4</td><td>1022</td><td>4088</td><td>7.57%</td></tr><tr><td>5</td><td>852</td><td>4260</td><td>6.31%</td></tr><tr><td>6</td><td>816</td><td>4896</td><td>6.04%</td></tr><tr><td>7</td><td>719</td><td>5033</td><td>5.33%</td></tr><tr><td>8</td><td>713</td><td>5704</td><td>5.28%</td></tr><tr><td>9</td><td>717</td><td>6453</td><td>5.31%</td></tr><tr><td>10</td><td>2084</td><td>20840</td><td>15.44%</td></tr></table>"
      ],
      "text/plain": [
       "<IPython.core.display.HTML object>"
      ]
     },
     "metadata": {},
     "output_type": "display_data"
    }
   ],
   "source": [
    "html = '<table><tr><th>#Subjects Connected</th><th># Links</th><th>Total Links</th><th>% of Links</th></tr>'\n",
    "for k, v in collections.OrderedDict(sorted(connections.items())).items():\n",
    "    pct = '%4.2f' % (v*100./total_connections)\n",
    "    if k == 0: pct = '--'\n",
    "    html += f'<tr><td>{k}</td><td>{v}</td><td>{k*v}</td><td>{pct}%</td></tr>'\n",
    "html +='</table>'\n",
    "display(HTML(html))"
   ]
  },
  {
   "cell_type": "markdown",
   "metadata": {},
   "source": [
    "From these, we see that around 5-7% of the links are inconsistent across subjects. Compared to the inconsistency within a subject as we observed above around 1.5%, the inconsistency across subject is higher.\n",
    "\n",
    "So, we should investigate further about the inconsistency of connections across subjects."
   ]
  }
 ],
 "metadata": {
  "kernelspec": {
   "display_name": "Python 3",
   "language": "python",
   "name": "python3"
  },
  "language_info": {
   "codemirror_mode": {
    "name": "ipython",
    "version": 3
   },
   "file_extension": ".py",
   "mimetype": "text/x-python",
   "name": "python",
   "nbconvert_exporter": "python",
   "pygments_lexer": "ipython3",
   "version": "3.6.6"
  },
  "toc-autonumbering": false
 },
 "nbformat": 4,
 "nbformat_minor": 2
}
