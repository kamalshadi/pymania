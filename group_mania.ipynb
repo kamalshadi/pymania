{
 "cells": [
  {
   "cell_type": "code",
   "execution_count": 4,
   "metadata": {},
   "outputs": [],
   "source": [
    "import pickle\n",
    "import pymania as pm\n",
    "import matplotlib.pyplot as plt\n",
    "import pickle as pk\n",
    "import numpy as np\n",
    "import numpy as num"
   ]
  },
  {
   "cell_type": "code",
   "execution_count": 41,
   "metadata": {},
   "outputs": [],
   "source": [
    "hem = 'left'"
   ]
  },
  {
   "cell_type": "code",
   "execution_count": 42,
   "metadata": {},
   "outputs": [],
   "source": [
    "h = 'L' if hem=='left' else 'R'\n",
    "rois = [f'{h}{i}' for i in range(1,181)]\n",
    "roi2ind = {}\n",
    "ind2roi = {}\n",
    "for i,roi in enumerate(sorted(rois)):\n",
    "    roi2ind[roi]=i\n",
    "    ind2roi[i]=roi\n",
    "def link_type(x,q1,q2):\n",
    "    if x<q1:\n",
    "        return 0#'short-range'\n",
    "    elif x>q2:\n",
    "        return 2#'long-range'\n",
    "    else:\n",
    "        return 1#'mid-range'\n",
    "with open(f'{h}_ROIs.txt') as f:\n",
    "    st = f.readlines()\n",
    "    roi_names = [xx.strip().split('_')[1] for xx in st]"
   ]
  },
  {
   "cell_type": "code",
   "execution_count": 43,
   "metadata": {},
   "outputs": [],
   "source": [
    "with open(f'sparse_{hem}_37.pk','rb') as f:\n",
    "    sdata = pickle.load(f)\n",
    "with open(f'vdense_{hem}_37.pk','rb') as f:\n",
    "    vdata = pickle.load(f)"
   ]
  },
  {
   "cell_type": "code",
   "execution_count": 44,
   "metadata": {},
   "outputs": [
    {
     "name": "stdout",
     "output_type": "stream",
     "text": [
      "1 37\n",
      "2 37\n",
      "3 37\n",
      "4 37\n",
      "5 37\n",
      "6 37\n",
      "7 37\n",
      "8 37\n",
      "9 37\n",
      "10 37\n",
      "11 37\n",
      "12 37\n",
      "13 37\n",
      "14 37\n",
      "15 37\n",
      "16 37\n",
      "17 37\n",
      "18 37\n",
      "19 37\n",
      "20 37\n",
      "21 37\n",
      "22 37\n",
      "23 37\n",
      "24 37\n",
      "25 37\n",
      "26 37\n",
      "27 37\n",
      "28 37\n",
      "29 37\n",
      "30 37\n",
      "31 37\n",
      "32 37\n",
      "33 37\n",
      "34 37\n",
      "35 37\n",
      "36 37\n",
      "37 37\n"
     ]
    }
   ],
   "source": [
    "L = []\n",
    "for sub in sdata.subjects:\n",
    "    sdata[sub].run_ranks(True,True)\n",
    "    L.append(sdata[sub].ranked_sts)\n",
    "I = pm.utils.ensemble_order(L)\n",
    "W = pm.utils.KendalMatrix(L,roi2ind)\n",
    "Rn = pm.utils.agg(W,I,roi2ind)\n",
    "net,den,nar,t = pm.utils.mania_on_rank(Rn,roi2ind)"
   ]
  },
  {
   "cell_type": "code",
   "execution_count": 45,
   "metadata": {},
   "outputs": [],
   "source": [
    "with open(f'sparse_{hem}_37_group.pk','wb') as f:\n",
    "    pk.dump((net,den,nar,t),f)"
   ]
  },
  {
   "cell_type": "code",
   "execution_count": 46,
   "metadata": {},
   "outputs": [
    {
     "data": {
      "text/plain": [
       "0.07004965859714463"
      ]
     },
     "execution_count": 46,
     "metadata": {},
     "output_type": "execute_result"
    }
   ],
   "source": [
    "pm.utils.density(net)"
   ]
  },
  {
   "cell_type": "code",
   "execution_count": 8,
   "metadata": {},
   "outputs": [],
   "source": [
    "def net2G(net):\n",
    "    G = nx.DiGraph(net)\n",
    "    for i in range(180):\n",
    "        for j in range(180):\n",
    "            if i==j or net[i,j]<.5:continue\n",
    "            r1 = ind2roi[i]\n",
    "            r2 = ind2roi[j]\n",
    "            G.add_edge(r1,r2)\n",
    "    return G"
   ]
  },
  {
   "cell_type": "code",
   "execution_count": 46,
   "metadata": {},
   "outputs": [],
   "source": [
    "\n",
    "sub_nets = {}\n",
    "sub_nets['right'] = {}\n",
    "sub_nets['left'] = {}\n",
    "sub_nets[hem]['dense'] =[]\n",
    "sub_nets[hem]['sparse'] =[]\n",
    "sub_nets[hem]['mania1'] =[]\n",
    "sub_nets[hem]['dt10'] =[]\n",
    "sub_nets[hem]['id'] =[]\n",
    "for sub in vdata.subjects:\n",
    "    sub_nets[hem][sub] = {}\n",
    "    sub_nets[hem]['dense'].append(vdata[sub].mania2_network)\n",
    "    sub_nets[hem]['sparse'].append(sdata[sub].mania2_network)\n",
    "    sub_nets[hem]['mania1'].append(vdata[sub].mania1_network)\n",
    "    sub_nets[hem]['dt10'].append(vdata[sub].proportional_net(.1))\n",
    "    sub_nets[hem]['id'].append(sub)\n",
    "hem = 'left'\n",
    "sub_nets[hem]['dense'] =[]\n",
    "sub_nets[hem]['sparse'] =[]\n",
    "sub_nets[hem]['mania1'] =[]\n",
    "sub_nets[hem]['dt10'] =[]\n",
    "sub_nets[hem]['id'] =[]\n",
    "with open(f'sparse_{hem}_37.pk','rb') as f:\n",
    "    sdata = pickle.load(f)\n",
    "with open(f'vdense_{hem}_37.pk','rb') as f:\n",
    "    vdata = pickle.load(f)\n",
    "for sub in vdata.subjects:\n",
    "    sub_nets[hem][sub] = {}\n",
    "    sub_nets[hem]['dense'].append(vdata[sub].mania2_network)\n",
    "    sub_nets[hem]['sparse'].append(sdata[sub].mania2_network)\n",
    "    sub_nets[hem]['mania1'].append(vdata[sub].mania1_network)\n",
    "    sub_nets[hem]['dt10'].append(vdata[sub].proportional_net(.1))\n",
    "    sub_nets[hem]['id'].append(sub)"
   ]
  },
  {
   "cell_type": "code",
   "execution_count": 47,
   "metadata": {},
   "outputs": [],
   "source": [
    "sio.savemat('sub_nets.mat',{'net':sub_nets})"
   ]
  },
  {
   "cell_type": "code",
   "execution_count": 43,
   "metadata": {},
   "outputs": [
    {
     "data": {
      "text/plain": [
       "dict_keys(['dense', 'sparse', 'mania1', 'dt10'])"
      ]
     },
     "execution_count": 43,
     "metadata": {},
     "output_type": "execute_result"
    }
   ],
   "source": [
    "sub_nets['right'][126426].keys()"
   ]
  },
  {
   "cell_type": "code",
   "execution_count": 39,
   "metadata": {},
   "outputs": [
    {
     "data": {
      "text/plain": [
       "<pymania.solvers.constantine.Constantine at 0x182569080>"
      ]
     },
     "execution_count": 39,
     "metadata": {},
     "output_type": "execute_result"
    }
   ],
   "source": [
    "sub_nets = {}\n",
    "sub_nets['right'] = {}\n",
    "sub_nets['left'] = {}\n",
    "for sub in vdata.subjects:\n",
    "    sub_nets[hem][sub] = {}\n",
    "    sub_nets[hem][sub]['dense'] = vdata[sub].mania2_network\n",
    "    sub_nets[hem][sub]['sparse'] = sdata[sub].mania2_network\n",
    "    sub_nets[hem][sub]['mania1'] = vdata[sub].mania1_network\n",
    "    sub_nets[hem][sub]['dt10'] = vdata[sub].proportional_net(.1)"
   ]
  },
  {
   "cell_type": "code",
   "execution_count": 11,
   "metadata": {},
   "outputs": [
    {
     "name": "stdout",
     "output_type": "stream",
     "text": [
      "------------DENSE-----------\n",
      "1 37\n",
      "2 37\n",
      "3 37\n",
      "4 37\n",
      "5 37\n",
      "6 37\n",
      "7 37\n",
      "8 37\n",
      "9 37\n",
      "10 37\n",
      "11 37\n",
      "12 37\n",
      "13 37\n",
      "14 37\n",
      "15 37\n",
      "16 37\n",
      "17 37\n",
      "18 37\n",
      "19 37\n",
      "20 37\n",
      "21 37\n",
      "22 37\n",
      "23 37\n",
      "24 37\n",
      "25 37\n",
      "26 37\n",
      "27 37\n",
      "28 37\n",
      "29 37\n",
      "30 37\n",
      "31 37\n",
      "32 37\n",
      "33 37\n",
      "34 37\n",
      "35 37\n",
      "36 37\n",
      "37 37\n",
      "------------SPARSE-----------\n",
      "1 37\n",
      "2 37\n",
      "3 37\n",
      "4 37\n",
      "5 37\n",
      "6 37\n",
      "7 37\n",
      "8 37\n",
      "9 37\n",
      "10 37\n",
      "11 37\n",
      "12 37\n",
      "13 37\n",
      "14 37\n",
      "15 37\n",
      "16 37\n",
      "17 37\n",
      "18 37\n",
      "19 37\n",
      "20 37\n",
      "21 37\n",
      "22 37\n",
      "23 37\n",
      "24 37\n",
      "25 37\n",
      "26 37\n",
      "27 37\n",
      "28 37\n",
      "29 37\n",
      "30 37\n",
      "31 37\n",
      "32 37\n",
      "33 37\n",
      "34 37\n",
      "35 37\n",
      "36 37\n",
      "37 37\n",
      "------------MANIA1-----------\n",
      "1 37\n",
      "2 37\n",
      "3 37\n",
      "4 37\n",
      "5 37\n",
      "6 37\n",
      "7 37\n",
      "8 37\n",
      "9 37\n",
      "10 37\n",
      "11 37\n",
      "12 37\n",
      "13 37\n",
      "14 37\n",
      "15 37\n",
      "16 37\n",
      "17 37\n",
      "18 37\n",
      "19 37\n",
      "20 37\n",
      "21 37\n",
      "22 37\n",
      "23 37\n",
      "24 37\n",
      "25 37\n",
      "26 37\n",
      "27 37\n",
      "28 37\n",
      "29 37\n",
      "30 37\n",
      "31 37\n",
      "32 37\n",
      "33 37\n",
      "34 37\n",
      "35 37\n",
      "36 37\n",
      "37 37\n",
      "-----------proportional dense-------------\n"
     ]
    }
   ],
   "source": [
    "#sparse mode\n",
    "#dense mode\n",
    "print('------------DENSE-----------')\n",
    "L = []\n",
    "for sub in vdata.subjects:\n",
    "    vdata[sub].run_ranks(True)\n",
    "    L.append(vdata[sub].ranked_sts)\n",
    "I = pm.utils.ensemble_order(L)\n",
    "W = pm.utils.KendalMatrix(L,roi2ind)\n",
    "Rn = pm.utils.agg(W,I,roi2ind)\n",
    "net,den,nar,t = pm.utils.mania_on_rank(Rn,roi2ind)\n",
    "with open(f'dense_{hem}_37_group.pk','wb') as f:\n",
    "    pk.dump((net,den,nar,t),f)\n",
    "\n",
    "print('------------SPARSE-----------')\n",
    "L = []\n",
    "for sub in sdata.subjects:\n",
    "    sdata[sub].run_ranks(True,True)\n",
    "    L.append(sdata[sub].ranked_sts)\n",
    "I = pm.utils.ensemble_order(L)\n",
    "W = pm.utils.KendalMatrix(L,roi2ind)\n",
    "Rn = pm.utils.agg(W,I,roi2ind)\n",
    "net,den,nar,t = pm.utils.mania_on_rank(Rn,roi2ind)\n",
    "with open(f'sparse_{hem}_37_group.pk','wb') as f:\n",
    "    pk.dump((net,den,nar,t),f)\n",
    "\n",
    "#MANIA1 mode\n",
    "print('------------MANIA1-----------')\n",
    "L = []\n",
    "for sub in vdata.subjects:\n",
    "    vdata[sub].run_ranks(False)\n",
    "    L.append(vdata[sub].ranked_sts)\n",
    "I = pm.utils.ensemble_order(L)\n",
    "W = pm.utils.KendalMatrix(L,roi2ind)\n",
    "Rn = pm.utils.agg(W,I,roi2ind)\n",
    "net,den,nar,t = pm.utils.mania_on_rank(Rn,roi2ind)\n",
    "with open(f'mania1_{hem}_37_group.pk','wb') as f:\n",
    "    pk.dump((net,den,nar,t),f)\n",
    "\n",
    "print('-----------proportional dense-------------')\n",
    "net = np.zeros((180,180))\n",
    "for sub in vdata.subjects:\n",
    "    net += vdata[sub].proportional_net(.1)\n",
    "cn = np.zeros((180,180))\n",
    "cn[net>22] = 1\n",
    "with open(f'pdense_{hem}_37_group.pk','wb') as f:\n",
    "    pk.dump((cn,None,None,None),f)"
   ]
  },
  {
   "cell_type": "code",
   "execution_count": 47,
   "metadata": {},
   "outputs": [],
   "source": [
    "with open(f'dense_left_37_group.pk','rb') as f:\n",
    "    LDG,den,nar,t = pk.load(f)\n",
    "with open(f'sparse_left_37_group.pk','rb') as f:\n",
    "    LSG,den,nar,t = pk.load(f)\n",
    "with open(f'mania1_left_37_group.pk','rb') as f:\n",
    "    LMG,den,nar,t = pk.load(f)\n",
    "with open(f'pdense_left_37_group.pk','rb') as f:\n",
    "    LPG,den,nar,t = pk.load(f)\n",
    "with open(f'dense_right_37_group.pk','rb') as f:\n",
    "    RDG,den,nar,t = pk.load(f)\n",
    "with open(f'sparse_right_37_group.pk','rb') as f:\n",
    "    RSG,den,nar,t = pk.load(f)\n",
    "with open(f'mania1_right_37_group.pk','rb') as f:\n",
    "    RMG,den,nar,t = pk.load(f)\n",
    "with open(f'pdense_right_37_group.pk','rb') as f:\n",
    "    RPG,den,nar,t = pk.load(f)"
   ]
  },
  {
   "cell_type": "code",
   "execution_count": 34,
   "metadata": {},
   "outputs": [
    {
     "data": {
      "text/plain": [
       "0.18547486033519553"
      ]
     },
     "execution_count": 34,
     "metadata": {},
     "output_type": "execute_result"
    }
   ],
   "source": []
  },
  {
   "cell_type": "code",
   "execution_count": 39,
   "metadata": {},
   "outputs": [],
   "source": [
    "import scipy.io as sio"
   ]
  },
  {
   "cell_type": "code",
   "execution_count": 48,
   "metadata": {},
   "outputs": [],
   "source": [
    "sio.savemat('netG.mat', {'LDG':LDG,'RDG':RDG,'LSG':LSG,'RSG':RSG,'LMG':LMG,'RMG':RMG,'LPG':LPG,'RPG':RPG})"
   ]
  },
  {
   "cell_type": "code",
   "execution_count": 37,
   "metadata": {},
   "outputs": [],
   "source": [
    "t = np.zeros((7,7))\n",
    "t[[1,2],:] += 1\n",
    "x,y = np.meshgrid([1,2], [0,1,5], sparse=True, indexing='ij')\n",
    "t[x,y]-=1"
   ]
  },
  {
   "cell_type": "code",
   "execution_count": 45,
   "metadata": {},
   "outputs": [],
   "source": [
    "sio.savemat('sub_nets.mat',{'net':sub_nets})"
   ]
  },
  {
   "cell_type": "code",
   "execution_count": 19,
   "metadata": {},
   "outputs": [],
   "source": [
    "x=[1,2,3]\n",
    "y = [-1,7]\n",
    "xv, yv = np.meshgrid(x, y, sparse=False, indexing='ij')"
   ]
  },
  {
   "cell_type": "code",
   "execution_count": 21,
   "metadata": {},
   "outputs": [
    {
     "data": {
      "text/plain": [
       "[-1, 7]"
      ]
     },
     "execution_count": 21,
     "metadata": {},
     "output_type": "execute_result"
    }
   ],
   "source": [
    "y"
   ]
  },
  {
   "cell_type": "code",
   "execution_count": 21,
   "metadata": {},
   "outputs": [
    {
     "data": {
      "text/plain": [
       "0.19366852886405958"
      ]
     },
     "execution_count": 21,
     "metadata": {},
     "output_type": "execute_result"
    }
   ],
   "source": [
    "cn = np.zeros((180,180))\n",
    "cn[net>22] = 1\n",
    "utils.density(cn)"
   ]
  },
  {
   "cell_type": "code",
   "execution_count": 20,
   "metadata": {},
   "outputs": [
    {
     "data": {
      "text/plain": [
       "22.2"
      ]
     },
     "execution_count": 20,
     "metadata": {},
     "output_type": "execute_result"
    }
   ],
   "source": [
    "37*.6"
   ]
  },
  {
   "cell_type": "code",
   "execution_count": 4,
   "metadata": {},
   "outputs": [],
   "source": [
    "import matplotlib.pyplot as plt"
   ]
  },
  {
   "cell_type": "code",
   "execution_count": 11,
   "metadata": {},
   "outputs": [
    {
     "name": "stdout",
     "output_type": "stream",
     "text": [
      "0.19366852886405958\n"
     ]
    }
   ],
   "source": [
    "with open('pdense_left_37.pk','rb') as f:\n",
    "    net,den,nar,t = pk.load(f)\n",
    "print(pm.utils.density(net))\n",
    "# plt.plot(den,nar)\n",
    "# plt.axvline(pm.utils.density(net))"
   ]
  },
  {
   "cell_type": "code",
   "execution_count": 14,
   "metadata": {},
   "outputs": [
    {
     "data": {
      "text/plain": [
       "0.05834885164494103"
      ]
     },
     "execution_count": 14,
     "metadata": {},
     "output_type": "execute_result"
    }
   ],
   "source": [
    "utils.density(net)"
   ]
  },
  {
   "cell_type": "code",
   "execution_count": 27,
   "metadata": {},
   "outputs": [],
   "source": [
    "D = defaultdict(int)\n",
    "l = len(L)\n",
    "for sub in L:\n",
    "    for pair in sub:\n",
    "        D[(pair[0],pair[1])] += pair[-1]\n",
    "y= [(roi[0],roi[1],wei//l) for roi,wei in sorted(D.items(),reverse=True, key=lambda x:x[-1])]"
   ]
  },
  {
   "cell_type": "code",
   "execution_count": 19,
   "metadata": {},
   "outputs": [],
   "source": [
    "from collections import defaultdict"
   ]
  },
  {
   "cell_type": "code",
   "execution_count": 6,
   "metadata": {},
   "outputs": [],
   "source": [
    "with open('sparse_left_37.pk','wb') as f:\n",
    "    pk.dump((net,den,nar,t),f)"
   ]
  },
  {
   "cell_type": "code",
   "execution_count": 11,
   "metadata": {},
   "outputs": [],
   "source": [
    "I = [xx for xx in L[0]]"
   ]
  },
  {
   "cell_type": "code",
   "execution_count": 22,
   "metadata": {},
   "outputs": [
    {
     "data": {
      "text/plain": [
       "{2}"
      ]
     },
     "execution_count": 22,
     "metadata": {},
     "output_type": "execute_result"
    }
   ],
   "source": [
    "set([1,2,3]) - set([1,21,3])"
   ]
  },
  {
   "cell_type": "code",
   "execution_count": 3,
   "metadata": {},
   "outputs": [],
   "source": [
    "import numpy as num"
   ]
  },
  {
   "cell_type": "code",
   "execution_count": 5,
   "metadata": {},
   "outputs": [
    {
     "data": {
      "text/plain": [
       "0.24677362325207908"
      ]
     },
     "execution_count": 5,
     "metadata": {},
     "output_type": "execute_result"
    }
   ],
   "source": [
    "num.random.rand()"
   ]
  },
  {
   "cell_type": "code",
   "execution_count": 57,
   "metadata": {},
   "outputs": [],
   "source": [
    "with open('euclidean.pk','rb') as f:\n",
    "    E = pk.load(f)['l']\n",
    "EE = squareform(E)"
   ]
  },
  {
   "cell_type": "code",
   "execution_count": 56,
   "metadata": {},
   "outputs": [],
   "source": [
    "from scipy.spatial.distance import squareform,pdist"
   ]
  },
  {
   "cell_type": "code",
   "execution_count": null,
   "metadata": {},
   "outputs": [],
   "source": []
  }
 ],
 "metadata": {
  "kernelspec": {
   "display_name": "Python 3",
   "language": "python",
   "name": "python3"
  },
  "language_info": {
   "codemirror_mode": {
    "name": "ipython",
    "version": 3
   },
   "file_extension": ".py",
   "mimetype": "text/x-python",
   "name": "python",
   "nbconvert_exporter": "python",
   "pygments_lexer": "ipython3",
   "version": "3.6.4"
  }
 },
 "nbformat": 4,
 "nbformat_minor": 2
}
