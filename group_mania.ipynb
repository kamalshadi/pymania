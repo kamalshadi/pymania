{
 "cells": [
  {
   "cell_type": "code",
   "execution_count": 1,
   "metadata": {},
   "outputs": [
    {
     "name": "stdout",
     "output_type": "stream",
     "text": [
      "{'Constantine': <class 'pymania.solvers.constantine.Constantine'>, 'MRP_F': <class 'pymania.solvers.mrp_symm_force.MRP_F'>, 'MRP_NF': <class 'pymania.solvers.mrp_symm_noforce.MRP_NF'>, 'Solver': <class 'pymania.solvers.base.Solver'>}\n"
     ]
    }
   ],
   "source": [
    "import pickle\n",
    "import pymania as pm\n",
    "import matplotlib.pyplot as plt\n",
    "import pickle as pk\n",
    "import numpy as np\n",
    "import numpy as num"
   ]
  },
  {
   "cell_type": "code",
   "execution_count": 2,
   "metadata": {},
   "outputs": [],
   "source": [
    "rois = [f'L{i}' for i in range(1,181)]\n",
    "roi2ind = {}\n",
    "ind2roi = {}\n",
    "for i,roi in enumerate(sorted(rois)):\n",
    "    roi2ind[roi]=i\n",
    "    ind2roi[i]=roi\n",
    "def link_type(x,q1,q2):\n",
    "    if x<q1:\n",
    "        return 0#'short-range'\n",
    "    elif x>q2:\n",
    "        return 2#'long-range'\n",
    "    else:\n",
    "        return 1#'mid-range'\n",
    "with open('L_ROIs.txt') as f:\n",
    "    st = f.readlines()\n",
    "    roi_names = [xx.strip().split('_')[1] for xx in st]"
   ]
  },
  {
   "cell_type": "code",
   "execution_count": 3,
   "metadata": {},
   "outputs": [],
   "source": [
    "with open('All_Subjects_networks.pkl','rb') as f:\n",
    "    data = pickle.load(f)\n",
    "sdata = data['sparse']\n",
    "vdata = data['vdense']"
   ]
  },
  {
   "cell_type": "code",
   "execution_count": 8,
   "metadata": {},
   "outputs": [
    {
     "name": "stdout",
     "output_type": "stream",
     "text": [
      "------------MANIA1-----------\n",
      "1 37\n",
      "2 37\n",
      "3 37\n",
      "4 37\n",
      "5 37\n",
      "6 37\n",
      "7 37\n",
      "8 37\n",
      "9 37\n",
      "10 37\n",
      "11 37\n",
      "12 37\n",
      "13 37\n",
      "14 37\n",
      "15 37\n",
      "16 37\n",
      "17 37\n",
      "18 37\n",
      "19 37\n",
      "20 37\n",
      "21 37\n",
      "22 37\n",
      "23 37\n",
      "24 37\n",
      "25 37\n",
      "26 37\n",
      "27 37\n",
      "28 37\n",
      "29 37\n",
      "30 37\n",
      "31 37\n",
      "32 37\n",
      "33 37\n",
      "34 37\n",
      "35 37\n",
      "36 37\n",
      "37 37\n",
      "-----------proportional dense-------------\n",
      "-----------proportional sparse-------------\n"
     ]
    }
   ],
   "source": [
    "#sparse mode\n",
    "#dense mode\n",
    "# print('------------DENSE-----------')\n",
    "# L = []\n",
    "# for sub in vdata.subjects:\n",
    "#     vdata[sub].run_ranks(True)\n",
    "#     L.append(vdata[sub].ranked_sts)\n",
    "# I = pm.utils.ensemble_order(L)\n",
    "# W = pm.utils.KendalMatrix(L,roi2ind)\n",
    "# Rn = pm.utils.agg(W,I,roi2ind)\n",
    "# net,den,nar,t = pm.utils.mania_on_rank(Rn,roi2ind)\n",
    "# with open('dense_left_37.pk','wb') as f:\n",
    "#     pk.dump((net,den,nar,t),f)\n",
    "\n",
    "# print('------------SPARSE-----------')\n",
    "# L = []\n",
    "# for sub in sdata.subjects:\n",
    "#     sdata[sub].run_ranks(True,True)\n",
    "#     L.append(sdata[sub].ranked_sts)\n",
    "# I = pm.utils.ensemble_order(L)\n",
    "# W = pm.utils.KendalMatrix(L,roi2ind)\n",
    "# Rn = pm.utils.agg(W,I,roi2ind)\n",
    "# net,den,nar,t = pm.utils.mania_on_rank(Rn,roi2ind)\n",
    "# with open('sparse_left_37.pk','wb') as f:\n",
    "#     pk.dump((net,den,nar,t),f)\n",
    "\n",
    "#MANIA1 mode\n",
    "print('------------MANIA1-----------')\n",
    "L = []\n",
    "for sub in vdata.subjects:\n",
    "    vdata[sub].run_ranks(False)\n",
    "    L.append(vdata[sub].ranked_sts)\n",
    "I = pm.utils.ensemble_order(L)\n",
    "W = pm.utils.KendalMatrix(L,roi2ind)\n",
    "Rn = pm.utils.agg(W,I,roi2ind)\n",
    "net,den,nar,t = pm.utils.mania_on_rank(Rn,roi2ind)\n",
    "with open('mania1_left_37.pk','wb') as f:\n",
    "    pk.dump((net,den,nar,t),f)\n",
    "print('-----------proportional dense-------------')\n",
    "net = np.zeros((180,180))\n",
    "for sub in vdata.subjects:\n",
    "    tmp = vdata[sub].mania2_network\n",
    "    net += vdata[sub].proportional_net(pm.utils.density(tmp))\n",
    "cn = np.zeros((180,180))\n",
    "cn[net>22] = 1\n",
    "with open('pdense_left_37.pk','wb') as f:\n",
    "    pk.dump((cn,None,None,None),f)\n",
    "print('-----------proportional sparse-------------')\n",
    "net = np.zeros((180,180))\n",
    "for sub in sdata.subjects:\n",
    "    tmp = sdata[sub].mania2_network\n",
    "    net += sdata[sub].proportional_net(pm.utils.density(tmp))\n",
    "cn = np.zeros((180,180))\n",
    "cn[net>22] = 1\n",
    "with open('psparse_left_37.pk','wb') as f:\n",
    "    pk.dump((cn,None,None,None),f)"
   ]
  },
  {
   "cell_type": "code",
   "execution_count": 37,
   "metadata": {},
   "outputs": [],
   "source": [
    "t = np.zeros((7,7))\n",
    "t[[1,2],:] += 1\n",
    "x,y = np.meshgrid([1,2], [0,1,5], sparse=True, indexing='ij')\n",
    "t[x,y]-=1"
   ]
  },
  {
   "cell_type": "code",
   "execution_count": 38,
   "metadata": {},
   "outputs": [
    {
     "data": {
      "text/plain": [
       "array([[0., 0., 0., 0., 0., 0., 0.],\n",
       "       [0., 0., 1., 1., 1., 0., 1.],\n",
       "       [0., 0., 1., 1., 1., 0., 1.],\n",
       "       [0., 0., 0., 0., 0., 0., 0.],\n",
       "       [0., 0., 0., 0., 0., 0., 0.],\n",
       "       [0., 0., 0., 0., 0., 0., 0.],\n",
       "       [0., 0., 0., 0., 0., 0., 0.]])"
      ]
     },
     "execution_count": 38,
     "metadata": {},
     "output_type": "execute_result"
    }
   ],
   "source": [
    "t"
   ]
  },
  {
   "cell_type": "code",
   "execution_count": 19,
   "metadata": {},
   "outputs": [],
   "source": [
    "x=[1,2,3]\n",
    "y = [-1,7]\n",
    "xv, yv = np.meshgrid(x, y, sparse=False, indexing='ij')"
   ]
  },
  {
   "cell_type": "code",
   "execution_count": 21,
   "metadata": {},
   "outputs": [
    {
     "data": {
      "text/plain": [
       "[-1, 7]"
      ]
     },
     "execution_count": 21,
     "metadata": {},
     "output_type": "execute_result"
    }
   ],
   "source": [
    "y"
   ]
  },
  {
   "cell_type": "code",
   "execution_count": 21,
   "metadata": {},
   "outputs": [
    {
     "data": {
      "text/plain": [
       "0.19366852886405958"
      ]
     },
     "execution_count": 21,
     "metadata": {},
     "output_type": "execute_result"
    }
   ],
   "source": [
    "cn = np.zeros((180,180))\n",
    "cn[net>22] = 1\n",
    "utils.density(cn)"
   ]
  },
  {
   "cell_type": "code",
   "execution_count": 20,
   "metadata": {},
   "outputs": [
    {
     "data": {
      "text/plain": [
       "22.2"
      ]
     },
     "execution_count": 20,
     "metadata": {},
     "output_type": "execute_result"
    }
   ],
   "source": [
    "37*.6"
   ]
  },
  {
   "cell_type": "code",
   "execution_count": 4,
   "metadata": {},
   "outputs": [],
   "source": [
    "import matplotlib.pyplot as plt"
   ]
  },
  {
   "cell_type": "code",
   "execution_count": 11,
   "metadata": {},
   "outputs": [
    {
     "name": "stdout",
     "output_type": "stream",
     "text": [
      "0.19366852886405958\n"
     ]
    }
   ],
   "source": [
    "with open('pdense_left_37.pk','rb') as f:\n",
    "    net,den,nar,t = pk.load(f)\n",
    "print(pm.utils.density(net))\n",
    "# plt.plot(den,nar)\n",
    "# plt.axvline(pm.utils.density(net))"
   ]
  },
  {
   "cell_type": "code",
   "execution_count": 14,
   "metadata": {},
   "outputs": [
    {
     "data": {
      "text/plain": [
       "0.05834885164494103"
      ]
     },
     "execution_count": 14,
     "metadata": {},
     "output_type": "execute_result"
    }
   ],
   "source": [
    "utils.density(net)"
   ]
  },
  {
   "cell_type": "code",
   "execution_count": 27,
   "metadata": {},
   "outputs": [],
   "source": [
    "D = defaultdict(int)\n",
    "l = len(L)\n",
    "for sub in L:\n",
    "    for pair in sub:\n",
    "        D[(pair[0],pair[1])] += pair[-1]\n",
    "y= [(roi[0],roi[1],wei//l) for roi,wei in sorted(D.items(),reverse=True, key=lambda x:x[-1])]"
   ]
  },
  {
   "cell_type": "code",
   "execution_count": 19,
   "metadata": {},
   "outputs": [],
   "source": [
    "from collections import defaultdict"
   ]
  },
  {
   "cell_type": "code",
   "execution_count": 6,
   "metadata": {},
   "outputs": [],
   "source": [
    "with open('sparse_left_37.pk','wb') as f:\n",
    "    pk.dump((net,den,nar,t),f)"
   ]
  },
  {
   "cell_type": "code",
   "execution_count": 11,
   "metadata": {},
   "outputs": [],
   "source": [
    "I = [xx for xx in L[0]]"
   ]
  },
  {
   "cell_type": "code",
   "execution_count": 22,
   "metadata": {},
   "outputs": [
    {
     "data": {
      "text/plain": [
       "{2}"
      ]
     },
     "execution_count": 22,
     "metadata": {},
     "output_type": "execute_result"
    }
   ],
   "source": [
    "set([1,2,3]) - set([1,21,3])"
   ]
  },
  {
   "cell_type": "code",
   "execution_count": 3,
   "metadata": {},
   "outputs": [],
   "source": [
    "import numpy as num"
   ]
  },
  {
   "cell_type": "code",
   "execution_count": 5,
   "metadata": {},
   "outputs": [
    {
     "data": {
      "text/plain": [
       "0.24677362325207908"
      ]
     },
     "execution_count": 5,
     "metadata": {},
     "output_type": "execute_result"
    }
   ],
   "source": [
    "num.random.rand()"
   ]
  },
  {
   "cell_type": "code",
   "execution_count": null,
   "metadata": {},
   "outputs": [],
   "source": []
  }
 ],
 "metadata": {
  "kernelspec": {
   "display_name": "Python 3",
   "language": "python",
   "name": "python3"
  },
  "language_info": {
   "codemirror_mode": {
    "name": "ipython",
    "version": 3
   },
   "file_extension": ".py",
   "mimetype": "text/x-python",
   "name": "python",
   "nbconvert_exporter": "python",
   "pygments_lexer": "ipython3",
   "version": "3.6.4"
  }
 },
 "nbformat": 4,
 "nbformat_minor": 2
}
