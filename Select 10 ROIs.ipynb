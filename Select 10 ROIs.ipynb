{
 "cells": [
  {
   "cell_type": "code",
   "execution_count": 1,
   "metadata": {},
   "outputs": [],
   "source": [
    "import pymania as mn\n",
    "import pylab as plt\n",
    "from collections import Counter\n",
    "from py2neo import Node, Relationship, Graph\n",
    "import numpy\n",
    "\n",
    "graph = Graph(host=\"canopus.cc.gatech.edu\",password='1234')"
   ]
  },
  {
   "cell_type": "code",
   "execution_count": 2,
   "metadata": {},
   "outputs": [
    {
     "data": {
      "text/plain": [
       "Counter({'envelope': 797, 'fallback': 55})"
      ]
     },
     "execution_count": 2,
     "metadata": {},
     "output_type": "execute_result"
    }
   ],
   "source": [
    "query = '''MATCH (n:ROI)-[r:MANIA2]->(m:ROI)\n",
    "WHERE r.SUBJECT IN [126426, 137431, 144125, 146735, 152427, 153227, 177140, 180533, 186545, 188145] AND n.name STARTS WITH 'L' AND r.is_connected=TRUE\n",
    "WITH n.name AS source, m.name AS target, r.SUBJECT AS subject, r.correction_type as correction_type\n",
    "WITH source, target, COUNT(*) AS connections, COLLECT(subject) AS subjects, COLLECT(correction_type) as correction_types WHERE connections=5\n",
    "RETURN source, target, subjects, correction_types order by source, target'''\n",
    "A1 = graph.run(query).data()\n",
    "query = '''MATCH (n:ROI)-[r:MANIA2]->(m:ROI)\n",
    "WHERE r.SUBJECT IN [126426, 137431, 144125, 146735, 152427, 153227, 177140, 180533, 186545, 188145] AND n.name STARTS WITH 'L' AND r.is_connected=False\n",
    "WITH n.name AS source, m.name AS target, r.SUBJECT AS subject, r.correction_type as correction_type\n",
    "WITH source, target, COUNT(*) AS connections, COLLECT(subject) AS subjects, COLLECT(correction_type) as correction_types WHERE connections=5\n",
    "RETURN source, target, subjects, correction_types order by source,target'''\n",
    "A2 = graph.run(query).data()\n",
    "l = len(A1)\n",
    "D = {}\n",
    "for i in range(l):\n",
    "    rec1 = A1[i]\n",
    "    rec2 = A2[i]\n",
    "    r1 = rec1['source']\n",
    "    r2 = rec1['target']\n",
    "    if (r1 != rec2['source'] or r2 != rec2['target']):\n",
    "        print('wrong data')\n",
    "    tmp1 = rec1['correction_types'] + rec2['correction_types']\n",
    "    tmp2 = Counter(tmp1)\n",
    "    a = tmp2.most_common(1)[0]\n",
    "    D[(r1,r2)] = a[0]\n",
    "Counter(D.values())"
   ]
  },
  {
   "cell_type": "code",
   "execution_count": 3,
   "metadata": {},
   "outputs": [],
   "source": [
    "# pick 5 fallback, 3 envelope and 2 null\n",
    "import random\n",
    "t = list(D.keys())\n",
    "random.shuffle(t)\n",
    "f = 0\n",
    "e = 0\n",
    "C = []\n",
    "for w in t:\n",
    "    if D[w] == 'fallback' and f<2:\n",
    "        C.append(w)\n",
    "        f = f + 1\n",
    "    if D[w] == 'envelope' and e<8:\n",
    "        C.append(w)\n",
    "        e = e + 1"
   ]
  },
  {
   "cell_type": "code",
   "execution_count": 7,
   "metadata": {},
   "outputs": [],
   "source": [
    "import pickle as pk\n",
    "with open('train10.pk','wb') as f:\n",
    "    pk.dump(C,f)"
   ]
  },
  {
   "cell_type": "code",
   "execution_count": 5,
   "metadata": {},
   "outputs": [],
   "source": []
  },
  {
   "cell_type": "code",
   "execution_count": null,
   "metadata": {},
   "outputs": [],
   "source": []
  }
 ],
 "metadata": {
  "kernelspec": {
   "display_name": "Python 3",
   "language": "python",
   "name": "python3"
  },
  "language_info": {
   "codemirror_mode": {
    "name": "ipython",
    "version": 3
   },
   "file_extension": ".py",
   "mimetype": "text/x-python",
   "name": "python",
   "nbconvert_exporter": "python",
   "pygments_lexer": "ipython3",
   "version": "3.6.4"
  }
 },
 "nbformat": 4,
 "nbformat_minor": 2
}
