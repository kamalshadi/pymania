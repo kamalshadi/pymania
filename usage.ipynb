{
 "cells": [
  {
   "cell_type": "code",
   "execution_count": 1,
   "metadata": {},
   "outputs": [],
   "source": [
    "import pymania as mn"
   ]
  },
  {
   "cell_type": "code",
   "execution_count": 2,
   "metadata": {},
   "outputs": [],
   "source": [
    "# create a single source to target object\n",
    "a = mn.ST(188145,'L1','L86')\n",
    "b = mn.ST(188145,'L86','L1')\n",
    "pair = mn.PairST(a, b)"
   ]
  },
  {
   "cell_type": "code",
   "execution_count": 3,
   "metadata": {},
   "outputs": [
    {
     "name": "stdout",
     "output_type": "stream",
     "text": [
      "Connection L1 to L86 is null\n"
     ]
    },
    {
     "data": {
      "image/png": "[encoded data removed]",
      "text/plain": [
       "<Figure size 1080x720 with 2 Axes>"
      ]
     },
     "metadata": {},
     "output_type": "display_data"
    }
   ],
   "source": [
    "# plot ST\n",
    "pair.plot()"
   ]
  },
  {
   "cell_type": "code",
   "execution_count": 4,
   "metadata": {},
   "outputs": [
    {
     "name": "stderr",
     "output_type": "stream",
     "text": [
      "Pre:   0%|          | 0/32220 [00:00<?, ?it/s]/Users/manoj/anaconda3/lib/python3.6/site-packages/numpy/core/fromnumeric.py:2957: RuntimeWarning: Mean of empty slice.\n",
      "  out=out, **kwargs)\n",
      "/Users/manoj/anaconda3/lib/python3.6/site-packages/numpy/core/_methods.py:80: RuntimeWarning: invalid value encountered in double_scalars\n",
      "  ret = ret.dtype.type(ret / rcount)\n",
      "Pre:   0%|          | 5/32220 [00:00<19:55, 26.95it/s]"
     ]
    },
    {
     "name": "stdout",
     "output_type": "stream",
     "text": [
      "Preprocessing connections for subject188145\n"
     ]
    },
    {
     "name": "stderr",
     "output_type": "stream",
     "text": [
      "Pre: 100%|██████████| 32220/32220 [32:42<00:00, 16.42it/s]  \n",
      "  8%|▊         | 14/180 [00:00<00:01, 128.14it/s]"
     ]
    },
    {
     "name": "stdout",
     "output_type": "stream",
     "text": [
      "Find roi regressors for subject188145\n"
     ]
    },
    {
     "name": "stderr",
     "output_type": "stream",
     "text": [
      "100%|██████████| 180/180 [00:01<00:00, 162.98it/s]\n"
     ]
    }
   ],
   "source": [
    "subject = mn.compute_subject(188145)"
   ]
  },
  {
   "cell_type": "code",
   "execution_count": 9,
   "metadata": {},
   "outputs": [
    {
     "name": "stdout",
     "output_type": "stream",
     "text": [
      "False\n",
      "0 165\n",
      "['L1', 'L10', 'L100', 'L101', 'L102', 'L103', 'L104', 'L105', 'L106', 'L107', 'L108', 'L109', 'L11', 'L110', 'L111', 'L112', 'L113', 'L114', 'L115', 'L116', 'L117', 'L118', 'L119', 'L12', 'L120', 'L121', 'L122', 'L123', 'L124', 'L125', 'L126', 'L127', 'L128', 'L129', 'L13', 'L130', 'L131', 'L132', 'L133', 'L134', 'L135', 'L136', 'L137', 'L138', 'L139', 'L14', 'L140', 'L141', 'L142', 'L143', 'L144', 'L145', 'L146', 'L147', 'L148', 'L149', 'L15', 'L150', 'L151', 'L152', 'L153', 'L154', 'L155', 'L156', 'L157', 'L158', 'L159', 'L16', 'L160', 'L161', 'L162', 'L163', 'L164', 'L165', 'L166', 'L167', 'L168', 'L169', 'L17', 'L170', 'L171', 'L172', 'L173', 'L174', 'L175', 'L176', 'L177', 'L178', 'L179', 'L18', 'L180', 'L19', 'L2', 'L20', 'L21', 'L22', 'L23', 'L24', 'L25', 'L26', 'L27', 'L28', 'L29', 'L3', 'L30', 'L31', 'L32', 'L33', 'L34', 'L35', 'L36', 'L37', 'L38', 'L39', 'L4', 'L40', 'L41', 'L42', 'L43', 'L44', 'L45', 'L46', 'L47', 'L48', 'L49', 'L5', 'L50', 'L51', 'L52', 'L53', 'L54', 'L55', 'L56', 'L57', 'L58', 'L59', 'L6', 'L60', 'L61', 'L62', 'L63', 'L64', 'L65', 'L66', 'L67', 'L68', 'L69', 'L7', 'L70', 'L71', 'L72', 'L73', 'L74', 'L75', 'L76', 'L77', 'L78', 'L79', 'L8', 'L80', 'L81', 'L82', 'L83', 'L84', 'L85', 'L86', 'L87', 'L88', 'L89', 'L9', 'L90', 'L91', 'L92', 'L93', 'L94', 'L95', 'L96', 'L97', 'L98', 'L99']\n"
     ]
    }
   ],
   "source": [
    "print(subject.is_connected('L1', 'L86'))\n",
    "rois = sorted(subject.rois)\n",
    "ind1, ind2 = rois.index('L1'), rois.index('L86')\n",
    "print(ind1, ind2)\n",
    "print(rois)"
   ]
  },
  {
   "cell_type": "code",
   "execution_count": 6,
   "metadata": {},
   "outputs": [
    {
     "name": "stdout",
     "output_type": "stream",
     "text": [
      "L100 L12\n",
      "L100 L134\n",
      "L100 L15\n",
      "L100 L177\n",
      "L100 L29\n",
      "L100 L46\n",
      "L101 L132\n",
      "L101 L137\n",
      "L101 L140\n",
      "L101 L15\n",
      "L101 L177\n",
      "L101 L27\n",
      "L101 L46\n",
      "L101 L69\n",
      "L102 L128\n",
      "L102 L130\n",
      "L102 L132\n",
      "L102 L25\n",
      "L102 L29\n",
      "L102 L45\n",
      "L102 L49\n",
      "L102 L69\n",
      "L103 L118\n",
      "L103 L119\n",
      "L103 L132\n",
      "L103 L166\n",
      "L103 L176\n",
      "L103 L44\n",
      "L103 L5\n",
      "L103 L63\n",
      "L103 L68\n",
      "L103 L69\n",
      "L103 L70\n",
      "L103 L92\n",
      "L103 L97\n",
      "L104 L123\n",
      "L104 L130\n",
      "L104 L132\n",
      "L104 L171\n",
      "L104 L177\n",
      "L104 L26\n",
      "L104 L29\n",
      "L104 L45\n",
      "L104 L63\n",
      "L104 L69\n",
      "L104 L70\n",
      "L104 L74\n",
      "L104 L77\n",
      "L104 L78\n",
      "L105 L132\n",
      "L105 L133\n",
      "L105 L137\n",
      "L105 L140\n",
      "L105 L145\n",
      "L105 L149\n",
      "L105 L15\n",
      "L105 L171\n",
      "L105 L177\n",
      "L105 L26\n",
      "L105 L27\n",
      "L105 L29\n",
      "L105 L39\n",
      "L105 L45\n",
      "L105 L69\n",
      "L105 L70\n",
      "L105 L74\n",
      "L105 L77\n",
      "L105 L78\n",
      "L106 L119\n",
      "L106 L171\n",
      "L108 L152\n",
      "L109 L152\n",
      "L109 L171\n",
      "L109 L19\n",
      "L109 L47\n",
      "L109 L6\n",
      "L109 L63\n",
      "L11 L45\n",
      "L11 L55\n",
      "L11 L69\n",
      "L11 L72\n",
      "L11 L89\n",
      "L111 L1\n",
      "L111 L107\n",
      "L111 L125\n",
      "L111 L13\n",
      "L111 L133\n",
      "L111 L137\n",
      "L111 L143\n",
      "L111 L15\n",
      "L111 L16\n",
      "L111 L171\n",
      "L111 L19\n",
      "L111 L29\n",
      "L111 L4\n",
      "L111 L45\n",
      "L111 L47\n",
      "L111 L49\n",
      "L111 L5\n",
      "L111 L55\n",
      "L111 L6\n",
      "L111 L63\n",
      "L111 L66\n",
      "L111 L69\n",
      "L111 L8\n",
      "L111 L88\n",
      "L111 L90\n",
      "L112 L158\n",
      "L112 L171\n",
      "L112 L179\n",
      "L112 L88\n",
      "L113 L13\n",
      "L113 L133\n",
      "L113 L134\n",
      "L113 L152\n",
      "L113 L171\n",
      "L113 L177\n",
      "L113 L43\n",
      "L113 L45\n",
      "L113 L49\n",
      "L113 L63\n",
      "L113 L72\n",
      "L113 L8\n",
      "L114 L107\n",
      "L114 L116\n",
      "L114 L147\n",
      "L114 L148\n",
      "L114 L167\n",
      "L114 L173\n",
      "L114 L175\n",
      "L114 L24\n",
      "L114 L25\n",
      "L114 L51\n",
      "L114 L52\n",
      "L114 L69\n",
      "L114 L70\n",
      "L114 L74\n",
      "L115 L124\n",
      "L115 L26\n",
      "L115 L69\n",
      "L115 L70\n",
      "L115 L71\n",
      "L115 L74\n",
      "L116 L11\n",
      "L116 L134\n",
      "L116 L136\n",
      "L116 L138\n",
      "L116 L141\n",
      "L116 L143\n",
      "L116 L151\n",
      "L116 L157\n",
      "L116 L171\n",
      "L116 L172\n",
      "L116 L26\n",
      "L116 L44\n",
      "L116 L67\n",
      "L116 L68\n",
      "L116 L69\n",
      "L116 L70\n",
      "L116 L77\n",
      "L116 L82\n",
      "L116 L85\n",
      "L116 L97\n",
      "L117 L152\n",
      "L117 L69\n",
      "L12 L39\n",
      "L12 L45\n",
      "L121 L172\n",
      "L125 L171\n",
      "L128 L118\n",
      "L128 L122\n",
      "L128 L171\n",
      "L128 L31\n",
      "L128 L69\n",
      "L129 L145\n",
      "L129 L15\n",
      "L129 L152\n",
      "L129 L169\n",
      "L129 L171\n",
      "L129 L27\n",
      "L129 L29\n",
      "L129 L39\n",
      "L129 L42\n",
      "L129 L45\n",
      "L129 L49\n",
      "L129 L75\n",
      "L129 L77\n",
      "L129 L81\n",
      "L129 L91\n",
      "L129 L95\n",
      "L130 L118\n",
      "L130 L119\n",
      "L130 L122\n",
      "L130 L14\n",
      "L130 L3\n",
      "L130 L31\n",
      "L130 L43\n",
      "L130 L85\n",
      "L133 L43\n",
      "L135 L69\n",
      "L139 L131\n",
      "L139 L145\n",
      "L139 L15\n",
      "L139 L177\n",
      "L139 L29\n",
      "L139 L39\n",
      "L139 L42\n",
      "L139 L45\n",
      "L139 L74\n",
      "L139 L75\n",
      "L139 L76\n",
      "L139 L78\n",
      "L140 L22\n",
      "L140 L4\n",
      "L141 L14\n",
      "L141 L55\n",
      "L144 L13\n",
      "L144 L43\n",
      "L144 L5\n",
      "L144 L93\n",
      "L147 L133\n",
      "L147 L134\n",
      "L147 L45\n",
      "L147 L69\n",
      "L147 L77\n",
      "L147 L81\n",
      "L148 L122\n",
      "L148 L43\n",
      "L148 L55\n",
      "L148 L63\n",
      "L148 L97\n",
      "L149 L43\n",
      "L149 L55\n",
      "L150 L26\n",
      "L150 L43\n",
      "L155 L21\n",
      "L156 L14\n",
      "L156 L90\n",
      "L157 L69\n",
      "L159 L154\n",
      "L159 L172\n",
      "L159 L4\n",
      "L16 L42\n",
      "L16 L63\n",
      "L160 L142\n",
      "L161 L120\n",
      "L161 L15\n",
      "L161 L70\n",
      "L162 L1\n",
      "L162 L5\n",
      "L166 L109\n",
      "L167 L118\n",
      "L167 L119\n",
      "L167 L171\n",
      "L167 L7\n",
      "L167 L88\n",
      "L168 L130\n",
      "L168 L132\n",
      "L168 L133\n",
      "L168 L134\n",
      "L168 L137\n",
      "L168 L140\n",
      "L168 L176\n",
      "L168 L177\n",
      "L168 L28\n",
      "L168 L29\n",
      "L168 L49\n",
      "L168 L69\n",
      "L168 L74\n",
      "L169 L1\n",
      "L169 L13\n",
      "L169 L136\n",
      "L169 L138\n",
      "L169 L142\n",
      "L169 L15\n",
      "L169 L158\n",
      "L169 L171\n",
      "L169 L29\n",
      "L169 L3\n",
      "L169 L39\n",
      "L169 L48\n",
      "L169 L5\n",
      "L169 L54\n",
      "L169 L55\n",
      "L169 L6\n",
      "L17 L163\n",
      "L173 L69\n",
      "L173 L70\n",
      "L174 L14\n",
      "L174 L69\n",
      "L174 L74\n",
      "L174 L75\n",
      "L175 L1\n",
      "L175 L171\n",
      "L175 L63\n",
      "L177 L119\n",
      "L177 L31\n",
      "L177 L33\n",
      "L177 L82\n",
      "L177 L85\n",
      "L178 L1\n",
      "L178 L14\n",
      "L178 L4\n",
      "L178 L6\n",
      "L178 L63\n",
      "L178 L72\n",
      "L178 L90\n",
      "L178 L92\n",
      "L178 L93\n",
      "L179 L98\n",
      "L180 L15\n",
      "L180 L170\n",
      "L180 L171\n",
      "L180 L77\n",
      "L180 L85\n",
      "L180 L87\n",
      "L180 L89\n",
      "L180 L90\n",
      "L180 L91\n",
      "L2 L1\n",
      "L2 L122\n",
      "L2 L22\n",
      "L2 L3\n",
      "L2 L5\n",
      "L2 L69\n",
      "L20 L3\n",
      "L21 L15\n",
      "L21 L31\n",
      "L21 L72\n",
      "L21 L88\n",
      "L21 L90\n",
      "L23 L1\n",
      "L23 L119\n",
      "L23 L127\n",
      "L23 L14\n",
      "L23 L172\n",
      "L23 L18\n",
      "L24 L14\n",
      "L24 L3\n",
      "L24 L46\n",
      "L25 L122\n",
      "L25 L13\n",
      "L25 L26\n",
      "L25 L55\n",
      "L25 L69\n",
      "L27 L126\n",
      "L28 L14\n",
      "L28 L171\n",
      "L28 L26\n",
      "L28 L46\n",
      "L28 L49\n",
      "L28 L69\n",
      "L28 L70\n",
      "L28 L81\n",
      "L32 L119\n",
      "L32 L26\n",
      "L32 L52\n",
      "L32 L70\n",
      "L32 L72\n",
      "L33 L42\n",
      "L33 L44\n",
      "L34 L131\n",
      "L34 L26\n",
      "L34 L43\n",
      "L34 L63\n",
      "L34 L70\n",
      "L34 L72\n",
      "L35 L118\n",
      "L35 L119\n",
      "L35 L122\n",
      "L35 L131\n",
      "L35 L26\n",
      "L35 L42\n",
      "L35 L43\n",
      "L35 L49\n",
      "L35 L72\n",
      "L38 L44\n",
      "L41 L131\n",
      "L41 L15\n",
      "L41 L26\n",
      "L41 L31\n",
      "L41 L33\n",
      "L41 L70\n",
      "L41 L72\n",
      "L46 L88\n",
      "L48 L11\n",
      "L48 L12\n",
      "L48 L55\n",
      "L48 L81\n",
      "L48 L83\n",
      "L48 L88\n",
      "L50 L26\n",
      "L50 L69\n",
      "L50 L85\n",
      "L50 L93\n",
      "L51 L136\n",
      "L51 L138\n",
      "L51 L172\n",
      "L51 L177\n",
      "L52 L135\n",
      "L52 L136\n",
      "L52 L138\n",
      "L52 L172\n",
      "L52 L88\n",
      "L52 L92\n",
      "L56 L19\n",
      "L56 L49\n",
      "L56 L63\n",
      "L57 L122\n",
      "L57 L131\n",
      "L57 L15\n",
      "L57 L26\n",
      "L57 L44\n",
      "L57 L70\n",
      "L58 L15\n",
      "L58 L63\n",
      "L59 L15\n",
      "L59 L26\n",
      "L59 L70\n",
      "L59 L72\n",
      "L61 L6\n",
      "L61 L77\n",
      "L61 L90\n",
      "L64 L131\n",
      "L64 L15\n",
      "L64 L77\n",
      "L64 L90\n",
      "L64 L92\n",
      "L66 L1\n",
      "L66 L158\n",
      "L66 L3\n",
      "L66 L8\n",
      "L66 L88\n",
      "L73 L108\n",
      "L73 L137\n",
      "L73 L138\n",
      "L73 L170\n",
      "L73 L26\n",
      "L73 L56\n",
      "L73 L70\n",
      "L73 L77\n",
      "L73 L8\n",
      "L73 L89\n",
      "L79 L157\n",
      "L79 L26\n",
      "L79 L44\n",
      "L80 L107\n",
      "L80 L138\n",
      "L80 L143\n",
      "L80 L26\n",
      "L80 L43\n",
      "L80 L69\n",
      "L80 L76\n",
      "L80 L77\n",
      "L80 L86\n",
      "L80 L99\n",
      "L86 L13\n",
      "L92 L72\n",
      "L95 L55\n",
      "L99 L1\n",
      "L99 L29\n",
      "L99 L5\n",
      "L99 L6\n",
      "L99 L88\n",
      "L99 L92\n",
      "10247 connections present\n"
     ]
    }
   ],
   "source": [
    "rois = sorted(subject.rois)\n",
    "n = 0\n",
    "for roi1 in rois:\n",
    "    for roi2 in rois:\n",
    "        if roi1 == roi2: continue\n",
    "        ind = subject._sts[(roi1, roi2)]\n",
    "        conn = subject.data[ind]\n",
    "        if subject.is_connected(roi1, roi2) and conn.correction_type=='null':\n",
    "            print(roi1, roi2)\n",
    "        if subject.is_connected(roi1, roi2):\n",
    "            n += 1\n",
    "print(f'{n} connections present')"
   ]
  },
  {
   "cell_type": "code",
   "execution_count": 15,
   "metadata": {},
   "outputs": [
    {
     "name": "stdout",
     "output_type": "stream",
     "text": [
      "Connection L12 to L100 is null\n"
     ]
    },
    {
     "data": {
      "text/plain": [
       "-1.3020657671212474"
      ]
     },
     "execution_count": 15,
     "metadata": {},
     "output_type": "execute_result"
    },
    {
     "data": {
      "image/png": "[encoded data removed]",
      "text/plain": [
       "<Figure size 1080x720 with 2 Axes>"
      ]
     },
     "metadata": {},
     "output_type": "display_data"
    }
   ],
   "source": [
    "subject('L100', 'L12',pair=True).plot()\n",
    "subject('L100', 'L12').corrected_weight"
   ]
  },
  {
   "cell_type": "code",
   "execution_count": 7,
   "metadata": {},
   "outputs": [
    {
     "data": {
      "image/png": "[encoded data removed]",
      "text/plain": [
       "<Figure size 1080x720 with 2 Axes>"
      ]
     },
     "metadata": {},
     "output_type": "display_data"
    }
   ],
   "source": [
    "subject.plot_mania()"
   ]
  },
  {
   "cell_type": "code",
   "execution_count": 8,
   "metadata": {},
   "outputs": [
    {
     "ename": "MANIA2Error",
     "evalue": "Connection is null",
     "output_type": "error",
     "traceback": [
      "\u001b[0;31m---------------------------------------------------------------------------\u001b[0m",
      "\u001b[0;31mMANIA2Error\u001b[0m                               Traceback (most recent call last)",
      "\u001b[0;32m<ipython-input-8-66b39a426fbc>\u001b[0m in \u001b[0;36m<module>\u001b[0;34m()\u001b[0m\n\u001b[1;32m      1\u001b[0m \u001b[0;31m# process local pipeline on the ST\u001b[0m\u001b[0;34m\u001b[0m\u001b[0;34m\u001b[0m\u001b[0m\n\u001b[0;32m----> 2\u001b[0;31m \u001b[0ma\u001b[0m\u001b[0;34m.\u001b[0m\u001b[0mprocess\u001b[0m\u001b[0;34m(\u001b[0m\u001b[0;34m)\u001b[0m\u001b[0;34m\u001b[0m\u001b[0m\n\u001b[0m\u001b[1;32m      3\u001b[0m \u001b[0;31m# plot again\u001b[0m\u001b[0;34m\u001b[0m\u001b[0;34m\u001b[0m\u001b[0m\n\u001b[1;32m      4\u001b[0m \u001b[0ma\u001b[0m\u001b[0;34m.\u001b[0m\u001b[0mplot\u001b[0m\u001b[0;34m(\u001b[0m\u001b[0;34m)\u001b[0m\u001b[0;34m\u001b[0m\u001b[0m\n",
      "\u001b[0;32m~/PycharmProjects/Dovrolis/pymania/pymania/base.py\u001b[0m in \u001b[0;36mprocess\u001b[0;34m(self)\u001b[0m\n\u001b[1;32m    246\u001b[0m     \u001b[0;32mdef\u001b[0m \u001b[0mprocess\u001b[0m\u001b[0;34m(\u001b[0m\u001b[0mself\u001b[0m\u001b[0;34m)\u001b[0m\u001b[0;34m:\u001b[0m\u001b[0;34m\u001b[0m\u001b[0m\n\u001b[1;32m    247\u001b[0m         \u001b[0;32mif\u001b[0m \u001b[0mself\u001b[0m\u001b[0;34m.\u001b[0m\u001b[0misNull\u001b[0m\u001b[0;34m(\u001b[0m\u001b[0;34m)\u001b[0m\u001b[0;34m:\u001b[0m\u001b[0;34m\u001b[0m\u001b[0m\n\u001b[0;32m--> 248\u001b[0;31m             \u001b[0;32mraise\u001b[0m \u001b[0mMANIA2Error\u001b[0m\u001b[0;34m(\u001b[0m\u001b[0;34m'Connection is null'\u001b[0m\u001b[0;34m)\u001b[0m\u001b[0;34m\u001b[0m\u001b[0m\n\u001b[0m\u001b[1;32m    249\u001b[0m         \u001b[0mself\u001b[0m\u001b[0;34m.\u001b[0m\u001b[0mfind_noise_threshold\u001b[0m\u001b[0;34m(\u001b[0m\u001b[0;34m)\u001b[0m\u001b[0;34m\u001b[0m\u001b[0m\n\u001b[1;32m    250\u001b[0m         \u001b[0mself\u001b[0m\u001b[0;34m.\u001b[0m\u001b[0mfind_envelope_points\u001b[0m\u001b[0;34m(\u001b[0m\u001b[0;34m)\u001b[0m\u001b[0;34m\u001b[0m\u001b[0m\n",
      "\u001b[0;31mMANIA2Error\u001b[0m: Connection is null"
     ]
    }
   ],
   "source": [
    "# process local pipeline on the ST\n",
    "a.process()\n",
    "# plot again\n",
    "a.plot()"
   ]
  },
  {
   "cell_type": "code",
   "execution_count": null,
   "metadata": {},
   "outputs": [],
   "source": [
    "# plot noise analysis\n",
    "a.noise_plot()"
   ]
  },
  {
   "cell_type": "code",
   "execution_count": null,
   "metadata": {},
   "outputs": [],
   "source": [
    "# get reverse connection and make a pair\n",
    "b = mn.ST(401422,'L3','L1')\n",
    "b.process()\n",
    "p = mn.PairST(a,b)\n",
    "p.plot()"
   ]
  },
  {
   "cell_type": "code",
   "execution_count": null,
   "metadata": {},
   "outputs": [],
   "source": [
    "# make an ensemble ST (we can use it for a subject analsis by providing all ROIs)\n",
    "import pymania as mn\n",
    "sub = mn.EnsembleST(['L'+str(i) for i in range(1,10)],subject=401422)\n",
    "sub.preprocess()\n",
    "sub.load_roi_regressors('roi_regressors.pk')"
   ]
  },
  {
   "cell_type": "code",
   "execution_count": null,
   "metadata": {},
   "outputs": [],
   "source": [
    "sub.find_corrected_weights()\n",
    "sub.get_matrix1()\n",
    "sub.get_matrix2()\n",
    "sub.plot_mania()"
   ]
  },
  {
   "cell_type": "code",
   "execution_count": null,
   "metadata": {},
   "outputs": [],
   "source": [
    "# get specific PairST from the ensemble\n",
    "import matplotlib.pyplot as plt\n",
    "sub('L2','L8',pair=True).plot()\n",
    "plt.legend()"
   ]
  },
  {
   "cell_type": "code",
   "execution_count": null,
   "metadata": {},
   "outputs": [],
   "source": [
    "#plot it\n",
    "import matplotlib.pyplot as plt"
   ]
  },
  {
   "cell_type": "code",
   "execution_count": null,
   "metadata": {},
   "outputs": [],
   "source": [
    "a = sub.get_matrix2()\n",
    "a[a==0]= 1\n",
    "a[a<0]= 0"
   ]
  },
  {
   "cell_type": "code",
   "execution_count": null,
   "metadata": {},
   "outputs": [],
   "source": [
    "sub.plot_mania()"
   ]
  },
  {
   "cell_type": "code",
   "execution_count": null,
   "metadata": {},
   "outputs": [],
   "source": [
    "np.max(sub('L1','L2').data[:,1])"
   ]
  },
  {
   "cell_type": "code",
   "execution_count": null,
   "metadata": {},
   "outputs": [],
   "source": [
    "np.max(sub('L1','L3').data[:,1])"
   ]
  },
  {
   "cell_type": "code",
   "execution_count": null,
   "metadata": {},
   "outputs": [],
   "source": [
    "sub.plot_mania()"
   ]
  },
  {
   "cell_type": "code",
   "execution_count": null,
   "metadata": {},
   "outputs": [],
   "source": [
    "import pymania.utils as utils"
   ]
  },
  {
   "cell_type": "code",
   "execution_count": null,
   "metadata": {},
   "outputs": [],
   "source": [
    "sub.get_matrix1()"
   ]
  },
  {
   "cell_type": "code",
   "execution_count": null,
   "metadata": {},
   "outputs": [],
   "source": [
    "list(range(7,5,-1))"
   ]
  },
  {
   "cell_type": "code",
   "execution_count": null,
   "metadata": {},
   "outputs": [],
   "source": [
    "sub.find_roi_regressors()\n",
    "sub.find_corrected_weights()"
   ]
  },
  {
   "cell_type": "code",
   "execution_count": null,
   "metadata": {},
   "outputs": [],
   "source": [
    "sub.get_matrix2()"
   ]
  },
  {
   "cell_type": "code",
   "execution_count": null,
   "metadata": {},
   "outputs": [],
   "source": [
    "reg.coef_[0][0]"
   ]
  },
  {
   "cell_type": "code",
   "execution_count": null,
   "metadata": {},
   "outputs": [],
   "source": [
    "reg.intercept_[0]"
   ]
  },
  {
   "cell_type": "code",
   "execution_count": null,
   "metadata": {},
   "outputs": [],
   "source": []
  }
 ],
 "metadata": {
  "kernelspec": {
   "display_name": "Python 3",
   "language": "python",
   "name": "python3"
  },
  "language_info": {
   "codemirror_mode": {
    "name": "ipython",
    "version": 3
   },
   "file_extension": ".py",
   "mimetype": "text/x-python",
   "name": "python",
   "nbconvert_exporter": "python",
   "pygments_lexer": "ipython3",
   "version": "3.6.6"
  }
 },
 "nbformat": 4,
 "nbformat_minor": 2
}
