{
 "cells": [
  {
   "cell_type": "code",
   "execution_count": 1,
   "metadata": {},
   "outputs": [],
   "source": [
    "import pymania as mn\n",
    "import pickle as pk"
   ]
  },
  {
   "cell_type": "code",
   "execution_count": 2,
   "metadata": {},
   "outputs": [],
   "source": [
    "# with open('sparse_left_37.pk','rb') as f:\n",
    "#     SL = pk.load(f)\n",
    "# with open('vdense_left_37.pk','rb') as f:\n",
    "#     DL = pk.load(f)\n",
    "with open('sparse_right_37.pk','rb') as f:\n",
    "    SR = pk.load(f)\n",
    "with open('vdense_right_37.pk','rb') as f:\n",
    "    DR = pk.load(f)"
   ]
  },
  {
   "cell_type": "code",
   "execution_count": 6,
   "metadata": {},
   "outputs": [
    {
     "data": {
      "text/plain": [
       "(0, 1)"
      ]
     },
     "execution_count": 6,
     "metadata": {},
     "output_type": "execute_result"
    },
    {
     "data": {
      "image/png": "[encoded data removed]",
      "text/plain": [
       "<matplotlib.figure.Figure at 0x1192c1c88>"
      ]
     },
     "metadata": {},
     "output_type": "display_data"
    }
   ],
   "source": [
    "for dr in DR:\n",
    "    plt.plot(mn.utils.density(dr.mania2_network),mn.utils.NAR(dr.mania2_network),'r*')\n",
    "for sr in SR:\n",
    "    plt.plot(mn.utils.density(sr.mania2_network),mn.utils.NAR(sr.mania2_network),'g*')\n",
    "plt.ylim([0,1])\n",
    "plt.xlim([0,1])\n",
    "# for dr in DL:\n",
    "#     plt.plot(mn.utils.density(dr.mania2_network),mn.utils.NAR(dr.mania2_network),'ro')\n",
    "# for sr in SL:\n",
    "#     plt.plot(mn.utils.density(sr.mania2_network),mn.utils.NAR(sr.mania2_network),'go')"
   ]
  },
  {
   "cell_type": "code",
   "execution_count": 4,
   "metadata": {},
   "outputs": [],
   "source": [
    "import matplotlib.pyplot as plt"
   ]
  },
  {
   "cell_type": "code",
   "execution_count": null,
   "metadata": {},
   "outputs": [],
   "source": []
  }
 ],
 "metadata": {
  "kernelspec": {
   "display_name": "Python 3",
   "language": "python",
   "name": "python3"
  },
  "language_info": {
   "codemirror_mode": {
    "name": "ipython",
    "version": 3
   },
   "file_extension": ".py",
   "mimetype": "text/x-python",
   "name": "python",
   "nbconvert_exporter": "python",
   "pygments_lexer": "ipython3",
   "version": "3.6.4"
  }
 },
 "nbformat": 4,
 "nbformat_minor": 2
}
