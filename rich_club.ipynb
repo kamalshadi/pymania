{
 "cells": [
  {
   "cell_type": "code",
   "execution_count": 126,
   "metadata": {},
   "outputs": [],
   "source": [
    "import pickle\n",
    "from pymania import *\n",
    "import matplotlib.pyplot as plt\n",
    "import pickle as pk\n",
    "import numpy as np\n",
    "from scipy.spatial.distance import squareform,pdist\n",
    "from collections import defaultdict\n",
    "import networkx as nx"
   ]
  },
  {
   "cell_type": "code",
   "execution_count": null,
   "metadata": {},
   "outputs": [],
   "source": []
  },
  {
   "cell_type": "code",
   "execution_count": 127,
   "metadata": {},
   "outputs": [],
   "source": [
    "r_rois = [f'R{i}' for i in range(1,181)]\n",
    "r_roi2ind = {}\n",
    "r_ind2roi = {}\n",
    "for i,roi in enumerate(sorted(r_rois)):\n",
    "    r_roi2ind[roi]=i\n",
    "    r_ind2roi[i]=roi\n",
    "\n",
    "def link_type(x,q1,q2):\n",
    "    if x<q1:\n",
    "        return 0#'short-range'\n",
    "    elif x>q2:\n",
    "        return 2#'long-range'\n",
    "    else:\n",
    "        return 1#'mid-range'\n",
    "\n",
    "with open('R_ROIs.txt') as f:\n",
    "    st = f.readlines()\n",
    "    r_roi_names = [xx.strip().split('_')[1] for xx in st]\n",
    "\n",
    "l_rois = [f'L{i}' for i in range(1,181)]\n",
    "l_roi2ind = {}\n",
    "l_ind2roi = {}\n",
    "for i,roi in enumerate(sorted(l_rois)):\n",
    "    l_roi2ind[roi]=i\n",
    "    l_ind2roi[i]=roi\n",
    "\n",
    "with open('L_ROIs.txt') as f:\n",
    "    st = f.readlines()\n",
    "    l_roi_names = [xx.strip().split('_')[1] for xx in st]"
   ]
  },
  {
   "cell_type": "code",
   "execution_count": 128,
   "metadata": {},
   "outputs": [],
   "source": [
    "def net2G(net,hem='l'):\n",
    "    G = nx.DiGraph()\n",
    "    rois = l_rois if hem=='l' else r_rois;\n",
    "    ind2roi = l_ind2roi if hem=='l' else r_ind2roi;\n",
    "    for roi in rois:\n",
    "        G.add_node(roi)\n",
    "    for i in range(180):\n",
    "        for j in range(180):\n",
    "            if i==j or net[i,j]<.5:continue\n",
    "            r1 = ind2roi[i]\n",
    "            r2 = ind2roi[j]\n",
    "            G.add_edge(r1,r2)\n",
    "    return G"
   ]
  },
  {
   "cell_type": "code",
   "execution_count": 194,
   "metadata": {},
   "outputs": [],
   "source": [
    "with open('sparse_right_37_group.pk','rb') as f:\n",
    "    RG = pk.load(f)\n",
    "with open('sparse_left_37_group.pk','rb') as f:\n",
    "    LG = pk.load(f)"
   ]
  },
  {
   "cell_type": "code",
   "execution_count": 195,
   "metadata": {},
   "outputs": [],
   "source": [
    "R = net2G(RG[0],'r')"
   ]
  },
  {
   "cell_type": "code",
   "execution_count": 196,
   "metadata": {},
   "outputs": [],
   "source": [
    "L = net2G(LG[0])"
   ]
  },
  {
   "cell_type": "code",
   "execution_count": 199,
   "metadata": {},
   "outputs": [],
   "source": [
    "zr = sorted([(xx,R.degree(xx)) for xx in r_rois],reverse=True,key = lambda x:x[-1])[0:5]\n",
    "zrs = set([xx[0] for xx in zr])"
   ]
  },
  {
   "cell_type": "code",
   "execution_count": 200,
   "metadata": {},
   "outputs": [],
   "source": [
    "zl = sorted([(xx,L.degree(xx)) for xx in l_rois],reverse=True,key = lambda x:x[-1])[0:5]\n",
    "zls = set([xx[0] for xx in zl])"
   ]
  },
  {
   "cell_type": "code",
   "execution_count": 201,
   "metadata": {},
   "outputs": [
    {
     "name": "stdout",
     "output_type": "stream",
     "text": [
      "'LEFT' '' '' 'RIGHT' '' ''\n",
      "L106 PoI2 X R106 PoI2 X\n",
      "L167 PoI1 X R131 TGd X\n",
      "L131 TGd X R143 PGp X\n",
      "L151 PGs X R167 PoI1 X\n",
      "L149 PFm X R148 PF X\n"
     ]
    }
   ],
   "source": [
    "#right and left rich club\n",
    "print(\"'LEFT'\",\"''\",\"''\",\"'RIGHT'\",\"''\",\"''\")\n",
    "for i in range(5):\n",
    "    nl = zl[i][0]\n",
    "    i1 = int(nl[1:])-1\n",
    "    r1 = l_roi_names[i1]\n",
    "    nr = zr[i][0]\n",
    "    i2 = int(nr[1:])-1\n",
    "    r2 = r_roi_names[i2]\n",
    "    print(nl,r1,'X',nr,r2,'X')"
   ]
  },
  {
   "cell_type": "code",
   "execution_count": 161,
   "metadata": {},
   "outputs": [],
   "source": [
    "l_rc=0\n",
    "l_fd=0\n",
    "l_lc=0\n",
    "for v,w in L.edges():\n",
    "    if (v in zls) and (w in zls):\n",
    "        l_rc+=1\n",
    "    elif (v in zls) or (w in zls):\n",
    "        l_fd+=1\n",
    "    else:\n",
    "        l_lc+=1"
   ]
  },
  {
   "cell_type": "code",
   "execution_count": 165,
   "metadata": {},
   "outputs": [],
   "source": [
    "with open('axonal.pk','rb') as f:\n",
    "    A = pk.load(f)"
   ]
  },
  {
   "cell_type": "code",
   "execution_count": null,
   "metadata": {},
   "outputs": [],
   "source": []
  },
  {
   "cell_type": "code",
   "execution_count": 186,
   "metadata": {},
   "outputs": [],
   "source": [
    "r_rc=[]\n",
    "r_fd=[]\n",
    "r_lc=[]\n",
    "E = A['l']\n",
    "lengths = [E[i,j] for i in range(179) for j in range(i+1,180)]\n",
    "q1,q2 = np.percentile(lengths,[25,75])\n",
    "for v,w in L.edges():\n",
    "    i = int(v[1:])-1\n",
    "    j = int(w[1:])-1\n",
    "    d = E[i,j]\n",
    "    if (v in zls) and (w in zls):\n",
    "        r_rc+=[link_type(d,q1,q2)]\n",
    "    elif (v in zls) or (w in zls):\n",
    "        r_fd+=[link_type(d,q1,q2)]\n",
    "    else:\n",
    "        r_lc+=[link_type(d,q1,q2)]"
   ]
  },
  {
   "cell_type": "code",
   "execution_count": 179,
   "metadata": {},
   "outputs": [],
   "source": [
    "from collections import Counter"
   ]
  },
  {
   "cell_type": "code",
   "execution_count": 187,
   "metadata": {},
   "outputs": [
    {
     "data": {
      "text/plain": [
       "Counter({0: 60, 1: 73, 2: 10})"
      ]
     },
     "execution_count": 187,
     "metadata": {},
     "output_type": "execute_result"
    }
   ],
   "source": [
    "Counter(r_rc)"
   ]
  },
  {
   "cell_type": "code",
   "execution_count": 188,
   "metadata": {},
   "outputs": [
    {
     "data": {
      "text/plain": [
       "Counter({0: 2971, 1: 879, 2: 176})"
      ]
     },
     "execution_count": 188,
     "metadata": {},
     "output_type": "execute_result"
    }
   ],
   "source": [
    "Counter(r_lc)"
   ]
  },
  {
   "cell_type": "code",
   "execution_count": 189,
   "metadata": {},
   "outputs": [
    {
     "data": {
      "text/plain": [
       "Counter({0: 844, 1: 811, 2: 152})"
      ]
     },
     "execution_count": 189,
     "metadata": {},
     "output_type": "execute_result"
    }
   ],
   "source": [
    "Counter(r_fd)"
   ]
  },
  {
   "cell_type": "code",
   "execution_count": 185,
   "metadata": {},
   "outputs": [
    {
     "data": {
      "text/plain": [
       "0.2285849503076195"
      ]
     },
     "execution_count": 185,
     "metadata": {},
     "output_type": "execute_result"
    }
   ],
   "source": [
    "966/(3059+966+201)"
   ]
  },
  {
   "cell_type": "code",
   "execution_count": null,
   "metadata": {},
   "outputs": [],
   "source": []
  }
 ],
 "metadata": {
  "kernelspec": {
   "display_name": "Python 3",
   "language": "python",
   "name": "python3"
  },
  "language_info": {
   "codemirror_mode": {
    "name": "ipython",
    "version": 3
   },
   "file_extension": ".py",
   "mimetype": "text/x-python",
   "name": "python",
   "nbconvert_exporter": "python",
   "pygments_lexer": "ipython3",
   "version": "3.6.4"
  }
 },
 "nbformat": 4,
 "nbformat_minor": 2
}
