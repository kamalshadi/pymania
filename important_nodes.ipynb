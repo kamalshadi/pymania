{
 "cells": [
  {
   "cell_type": "markdown",
   "metadata": {},
   "source": [
    "Nodes having lots of long-range connections"
   ]
  },
  {
   "cell_type": "code",
   "execution_count": 1,
   "metadata": {},
   "outputs": [],
   "source": [
    "import pickle\n",
    "from pymania import *\n",
    "import matplotlib.pyplot as plt\n",
    "import pickle as pk\n",
    "import numpy as np\n",
    "from scipy.spatial.distance import squareform,pdist"
   ]
  },
  {
   "cell_type": "code",
   "execution_count": 29,
   "metadata": {},
   "outputs": [],
   "source": [
    "import networkx as nx"
   ]
  },
  {
   "cell_type": "code",
   "execution_count": 2,
   "metadata": {},
   "outputs": [],
   "source": [
    "from collections import defaultdict"
   ]
  },
  {
   "cell_type": "code",
   "execution_count": 22,
   "metadata": {},
   "outputs": [],
   "source": [
    "q1=72\n",
    "q2=123"
   ]
  },
  {
   "cell_type": "code",
   "execution_count": 23,
   "metadata": {},
   "outputs": [],
   "source": [
    "r_rois = [f'R{i}' for i in range(1,181)]\n",
    "r_roi2ind = {}\n",
    "r_ind2roi = {}\n",
    "for i,roi in enumerate(sorted(r_rois)):\n",
    "    r_roi2ind[roi]=i\n",
    "    r_ind2roi[i]=roi\n",
    "\n",
    "def link_type(x,q1,q2):\n",
    "    if x<q1:\n",
    "        return 0#'short-range'\n",
    "    elif x>q2:\n",
    "        return 2#'long-range'\n",
    "    else:\n",
    "        return 1#'mid-range'\n",
    "\n",
    "with open('R_ROIs.txt') as f:\n",
    "    st = f.readlines()\n",
    "    r_roi_names = [xx.strip().split('_')[1] for xx in st]\n",
    "\n",
    "l_rois = [f'L{i}' for i in range(1,181)]\n",
    "l_roi2ind = {}\n",
    "l_ind2roi = {}\n",
    "for i,roi in enumerate(sorted(l_rois)):\n",
    "    l_roi2ind[roi]=i\n",
    "    l_ind2roi[i]=roi\n",
    "\n",
    "with open('L_ROIs.txt') as f:\n",
    "    st = f.readlines()\n",
    "    l_roi_names = [xx.strip().split('_')[1] for xx in st]"
   ]
  },
  {
   "cell_type": "code",
   "execution_count": 26,
   "metadata": {},
   "outputs": [],
   "source": [
    "def net2G(net,hem='l'):\n",
    "    G = nx.DiGraph()\n",
    "    rois = l_rois if hem=='l' else r_rois;\n",
    "    ind2roi = l_ind2roi if hem=='l' else r_ind2roi;\n",
    "    for roi in rois:\n",
    "        G.add_node(roi)\n",
    "    for i in range(180):\n",
    "        for j in range(180):\n",
    "            if i==j or net[i,j]<.5:continue\n",
    "            r1 = ind2roi[i]\n",
    "            r2 = ind2roi[j]\n",
    "            G.add_edge(r1,r2)\n",
    "    return G"
   ]
  },
  {
   "cell_type": "code",
   "execution_count": 37,
   "metadata": {},
   "outputs": [],
   "source": [
    "with open('axonal.pk','rb') as f:\n",
    "    D = pk.load(f)\n",
    "Dr = D['r']\n",
    "Dl = D['l']"
   ]
  },
  {
   "cell_type": "code",
   "execution_count": 58,
   "metadata": {},
   "outputs": [],
   "source": [
    "with open('dense_right_37_group.pk','rb') as f:\n",
    "    RG = pk.load(f)\n",
    "with open('dense_left_37_group.pk','rb') as f:\n",
    "    LG = pk.load(f)"
   ]
  },
  {
   "cell_type": "code",
   "execution_count": 149,
   "metadata": {},
   "outputs": [],
   "source": [
    "with open(f'pdense_left_37_group.pk','rb') as f:\n",
    "    LN = pk.load(f)\n",
    "with open(f'pdense_right_37_group.pk','rb') as f:\n",
    "    RN = pk.load(f)"
   ]
  },
  {
   "cell_type": "code",
   "execution_count": 150,
   "metadata": {},
   "outputs": [],
   "source": [
    "PL = net2G(LN[0])\n",
    "PR = net2G(RN[0])"
   ]
  },
  {
   "cell_type": "code",
   "execution_count": 160,
   "metadata": {},
   "outputs": [
    {
     "name": "stdout",
     "output_type": "stream",
     "text": [
      "\"Left\" \"\" \"Right\" \"\"\n",
      "L106 PoI2 L167 PoI1\n",
      "L167 PoI1 L106 PoI2\n",
      "L131 TGd L131 TGd\n",
      "L143 PGp L1 V1\n",
      "L1 V1 L143 PGp\n",
      "L100 OP4 L6 V4\n",
      "L122 PeEc L100 OP4\n"
     ]
    }
   ],
   "source": [
    "rc_right = [xx[0] for xx in sorted(dict(PL.degree()).items(),key=lambda x:x[1],reverse=True)][0:7]\n",
    "rc_left = [xx[0] for xx in sorted(dict(PR.degree()).items(),key=lambda x:x[1],reverse=True)][0:8]\n",
    "print('\"Left\"','\"\"','\"Right\"','\"\"')\n",
    "for i in range(7):\n",
    "    r1 = l_roi_names[int(rc_left[i][1:])-1]\n",
    "    r2 = r_roi_names[int(rc_right[i][1:])-1]\n",
    "    print(rc_left[i],r1,rc_right[i],r2)\n",
    "rc_right = set([r_roi_names[int(xx[1:])-1] for xx in rc_right])\n",
    "rc_left = set([l_roi_names[int(xx[1:])-1] for xx in rc_left])"
   ]
  },
  {
   "cell_type": "code",
   "execution_count": 157,
   "metadata": {},
   "outputs": [
    {
     "data": {
      "text/plain": [
       "{'OP4', 'PGp', 'PoI1', 'PoI2', 'TGd', 'V1', 'V4'}"
      ]
     },
     "execution_count": 157,
     "metadata": {},
     "output_type": "execute_result"
    }
   ],
   "source": [
    "rc_right"
   ]
  },
  {
   "cell_type": "code",
   "execution_count": 134,
   "metadata": {},
   "outputs": [],
   "source": [
    "rc_right = [xx[0] for xx in sorted(dict(R.degree()).items(),key=lambda x:x[1],reverse=True)][0:13]\n",
    "rc_left = [xx[0] for xx in sorted(dict(L.degree()).items(),key=lambda x:x[1],reverse=True)][0:13]\n",
    "rc_right = set([r_roi_names[int(xx[1:])-1] for xx in rc_right])\n",
    "rc_left = set([l_roi_names[int(xx[1:])-1] for xx in rc_left])"
   ]
  },
  {
   "cell_type": "code",
   "execution_count": 98,
   "metadata": {},
   "outputs": [],
   "source": [
    "def df():\n",
    "    return [0,0]\n",
    "resl = defaultdict(df)\n",
    "for w,v in L.edges():\n",
    "    i1 = int(w[1:])-1\n",
    "    i2 = int(v[1:])-1\n",
    "    r1 = l_roi_names[i1]\n",
    "    r2 = l_roi_names[i2]\n",
    "    lt = link_type(Dl[i1,i2],q1,q2)\n",
    "    n1 = resl[r1]\n",
    "    n2 = resl[r2]\n",
    "    if lt!=0:\n",
    "        resl[r1]=[n1[0]+1,n1[1]+1]\n",
    "        resl[r2]=[n2[0]+1,n2[1]+1]\n",
    "    else:\n",
    "        resl[r1]=[n1[0]+1,n1[1]]\n",
    "        resl[r2]=[n2[0]+1,n2[1]]"
   ]
  },
  {
   "cell_type": "code",
   "execution_count": 99,
   "metadata": {},
   "outputs": [],
   "source": [
    "def df():\n",
    "    return [0,0]\n",
    "resr = defaultdict(df)\n",
    "for w,v in R.edges():\n",
    "    i1 = int(w[1:])-1\n",
    "    i2 = int(v[1:])-1\n",
    "    r1 = r_roi_names[i1]\n",
    "    r2 = r_roi_names[i2]\n",
    "    lt = link_type(Dr[i1,i2],q1,q2)\n",
    "    n1 = resr[r1]\n",
    "    n2 = resr[r2]\n",
    "    if lt!=0:\n",
    "        resr[r1]=[n1[0]+1,n1[1]+1]\n",
    "        resr[r2]=[n2[0]+1,n2[1]+1]\n",
    "    else:\n",
    "        resr[r1]=[n1[0]+1,n1[1]]\n",
    "        resr[r2]=[n2[0]+1,n2[1]]"
   ]
  },
  {
   "cell_type": "code",
   "execution_count": 118,
   "metadata": {},
   "outputs": [],
   "source": [
    "key=lambda x:x[1][-1]/(x[1][0]+x[1][1])\n",
    "key=lambda x:x[1][1]/x[1][0]\n",
    "key=lambda x:x[1][1]"
   ]
  },
  {
   "cell_type": "code",
   "execution_count": 119,
   "metadata": {},
   "outputs": [],
   "source": [
    "pl = sorted(resl.items(),reverse=True,key=key)\n",
    "pr = sorted(resr.items(),reverse=True,key=key)"
   ]
  },
  {
   "cell_type": "code",
   "execution_count": 136,
   "metadata": {},
   "outputs": [
    {
     "data": {
      "text/plain": [
       "Text(0,0.5,'Degree')"
      ]
     },
     "execution_count": 136,
     "metadata": {},
     "output_type": "execute_result"
    },
    {
     "data": {
      "image/png": "[encoded data removed]",
      "text/plain": [
       "<matplotlib.figure.Figure at 0x18061bba8>"
      ]
     },
     "metadata": {},
     "output_type": "display_data"
    }
   ],
   "source": [
    "plt.figure(figsize=(16,7))\n",
    "ind = np.arange(25)\n",
    "lg = [xx[1][1] for xx in pl[0:25]]\n",
    "ticks = [xx[0] for xx in pl[0:25]]\n",
    "for i,roi in enumerate(ticks):\n",
    "    if roi in rc_left:\n",
    "        plt.plot(ind[i],pl[i][1][0]+5,'r*')\n",
    "rest = [xx[1][0]-xx[1][1] for xx in pl[0:25]]\n",
    "width = .91       # the width of the bars: can also be len(x) sequence\n",
    "plt.xticks(ind,ticks,rotation=90,fontsize=18)\n",
    "p1 = plt.bar(ind, lg, width,label='mid/long-range')\n",
    "p2 = plt.bar(ind, rest, width,bottom=lg,label='short-range')\n",
    "plt.legend()\n",
    "plt.ylabel('Degree',fontsize=18)"
   ]
  },
  {
   "cell_type": "code",
   "execution_count": 132,
   "metadata": {},
   "outputs": [
    {
     "data": {
      "text/plain": [
       "{'L1',\n",
       " 'L106',\n",
       " 'L110',\n",
       " 'L131',\n",
       " 'L133',\n",
       " 'L148',\n",
       " 'L149',\n",
       " 'L15',\n",
       " 'L151',\n",
       " 'L167',\n",
       " 'L175',\n",
       " 'L5',\n",
       " 'L75'}"
      ]
     },
     "execution_count": 132,
     "metadata": {},
     "output_type": "execute_result"
    }
   ],
   "source": [
    "rc_left"
   ]
  },
  {
   "cell_type": "code",
   "execution_count": 137,
   "metadata": {},
   "outputs": [
    {
     "data": {
      "text/plain": [
       "Text(0,0.5,'Degree')"
      ]
     },
     "execution_count": 137,
     "metadata": {},
     "output_type": "execute_result"
    },
    {
     "data": {
      "image/png": "[encoded data removed]",
      "text/plain": [
       "<matplotlib.figure.Figure at 0x1806f5588>"
      ]
     },
     "metadata": {},
     "output_type": "display_data"
    }
   ],
   "source": [
    "plt.figure(figsize=(16,7))\n",
    "ind = np.arange(25)\n",
    "lg = [xx[1][1] for xx in pr[0:25]]\n",
    "ticks = [xx[0] for xx in pr[0:25]]\n",
    "for i,roi in enumerate(ticks):\n",
    "    if roi in rc_right:\n",
    "        plt.plot(ind[i],pr[i][1][0]+5,'r*')\n",
    "rest = [xx[1][0]-xx[1][1] for xx in pr[0:25]]\n",
    "width = .91       # the width of the bars: can also be len(x) sequence\n",
    "plt.xticks(ind,ticks,rotation=90,fontsize=18)\n",
    "p1 = plt.bar(ind, lg, width,label='mid/long-range')\n",
    "p2 = plt.bar(ind, rest, width,bottom=lg,label='short-range')\n",
    "plt.legend()\n",
    "plt.ylabel('Degree',fontsize=18)"
   ]
  },
  {
   "cell_type": "code",
   "execution_count": 138,
   "metadata": {},
   "outputs": [],
   "source": [
    "\n",
    "pl1 = sorted(resl.items(),reverse=True,key=lambda x:x[1][0])\n",
    "pl2 = sorted(resl.items(),reverse=True,key=lambda x:x[1][0]-x[1][1])\n",
    "rank1 = np.array([(xx[0],i) for i,xx in enumerate(pl1)])\n",
    "rank2 = np.array([(xx[0],i) for i,xx in enumerate(pl2)])\n",
    "d1 = dict(rank1)\n",
    "d2 = dict(rank2)\n",
    "diff = defaultdict(int)\n",
    "for w in d1:\n",
    "    r1 = int(d1[w])\n",
    "    r2 = int(d2[w])\n",
    "    diff[w] = -r1+r2"
   ]
  },
  {
   "cell_type": "code",
   "execution_count": 143,
   "metadata": {},
   "outputs": [
    {
     "data": {
      "text/plain": [
       "[('TE2a', 115),\n",
       " ('TE1a', 82),\n",
       " ('STGa', 65),\n",
       " ('PI', 63),\n",
       " ('7Pm', 60),\n",
       " ('7Am', 55),\n",
       " ('7PL', 55),\n",
       " ('STSva', 53),\n",
       " ('TE1m', 52),\n",
       " ('d32', 52),\n",
       " ('10d', 46),\n",
       " ('8BM', 45),\n",
       " ('a24', 45),\n",
       " ('7m', 43),\n",
       " ('TGv', 42),\n",
       " ('STSda', 41),\n",
       " ('V6', 39),\n",
       " ('a32pr', 38),\n",
       " ('p32pr', 37),\n",
       " ('p47r', 35),\n",
       " ('STSvp', 34),\n",
       " ('5L', 32),\n",
       " ('p32', 29),\n",
       " ('10pp', 28),\n",
       " ('v23ab', 27)]"
      ]
     },
     "execution_count": 143,
     "metadata": {},
     "output_type": "execute_result"
    }
   ],
   "source": [
    "sorted(diff.items(),reverse=True,key=lambda x:x[1])[0:25]"
   ]
  },
  {
   "cell_type": "code",
   "execution_count": null,
   "metadata": {},
   "outputs": [],
   "source": []
  }
 ],
 "metadata": {
  "kernelspec": {
   "display_name": "Python 3",
   "language": "python",
   "name": "python3"
  },
  "language_info": {
   "codemirror_mode": {
    "name": "ipython",
    "version": 3
   },
   "file_extension": ".py",
   "mimetype": "text/x-python",
   "name": "python",
   "nbconvert_exporter": "python",
   "pygments_lexer": "ipython3",
   "version": "3.6.4"
  }
 },
 "nbformat": 4,
 "nbformat_minor": 2
}
