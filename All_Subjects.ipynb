{
 "cells": [
  {
   "cell_type": "markdown",
   "metadata": {},
   "source": [
    "# Running the Analysis on all Subjects"
   ]
  },
  {
   "cell_type": "code",
   "execution_count": 1,
   "metadata": {},
   "outputs": [],
   "source": [
    "from IPython.display import display, HTML\n",
    "from ipywidgets import interact, interactive\n",
    "from py2neo import Node, Relationship, Graph\n",
    "from scipy.linalg import toeplitz\n",
    "from scipy.stats import binom\n",
    "from tqdm import tqdm_notebook as tqdm\n",
    "\n",
    "import ipywidgets as widgets\n",
    "import matplotlib.pyplot as plt\n",
    "import numpy as np\n",
    "import pandas as pd\n",
    "import pickle as pk\n",
    "import pymania as mn"
   ]
  },
  {
   "cell_type": "code",
   "execution_count": 2,
   "metadata": {},
   "outputs": [],
   "source": [
    "%matplotlib widget\n",
    "graph = Graph(host=\"canopus.cc.gatech.edu\",password='1234')\n",
    "subjects = [126426, 135124, 137431, 144125, 146735, 152427, 153227, 177140, 180533, 186545,\n",
    "            188145, 192237, 206323, 227533, 248238, 360030, 361234, 362034, 368753, 401422,\n",
    "            413934, 453542, 463040, 468050, 481042, 825654, 911849, 917558, 992673, 558960,\n",
    "            569965, 644246, 654552, 680452, 701535, 804646, 814548]\n",
    "NOS = 5000\n",
    "n_subjects = len(subjects)"
   ]
  },
  {
   "cell_type": "code",
   "execution_count": 3,
   "metadata": {},
   "outputs": [],
   "source": [
    "def joini(lst):\n",
    "    return ', '.join(str(x) for x in lst)"
   ]
  },
  {
   "cell_type": "markdown",
   "metadata": {},
   "source": [
    "# Run Mania on all Subjects"
   ]
  },
  {
   "cell_type": "code",
   "execution_count": 6,
   "metadata": {},
   "outputs": [],
   "source": [
    "def get_network(subjects, run_type):\n",
    "    network = mn.create_project('Constantine', run_type)\n",
    "    for roi in ['R'+str(xx) for xx in range(1,181)]:\n",
    "        network.add_roi(roi)\n",
    "    for subject in subjects:\n",
    "        network.add_subject(subject)\n",
    "    network.load()\n",
    "    network.run()\n",
    "    return network"
   ]
  },
  {
   "cell_type": "code",
   "execution_count": 7,
   "metadata": {},
   "outputs": [],
   "source": [
    "vdense_network = get_network(subjects, 'vdense_temp')"
   ]
  },
  {
   "cell_type": "code",
   "execution_count": null,
   "metadata": {},
   "outputs": [],
   "source": [
    "networks = {'vdense':vdense_network}\n",
    "pk.dump(networks, open( \"/net/ht140/manoj/All_Subjects_networks_R_dense.pkl\", \"wb\"))"
   ]
  },
  {
   "cell_type": "code",
   "execution_count": null,
   "metadata": {},
   "outputs": [],
   "source": [
    "sparse_network = get_network(subjects, 'sparse_temp')"
   ]
  },
  {
   "cell_type": "code",
   "execution_count": 1,
   "metadata": {},
   "outputs": [
    {
     "ename": "NameError",
     "evalue": "name 'vdense_network' is not defined",
     "output_type": "error",
     "traceback": [
      "\u001b[0;31m---------------------------------------------------------------------------\u001b[0m",
      "\u001b[0;31mNameError\u001b[0m                                 Traceback (most recent call last)",
      "\u001b[0;32m<ipython-input-1-a4a1df72feea>\u001b[0m in \u001b[0;36m<module>\u001b[0;34m\u001b[0m\n\u001b[0;32m----> 1\u001b[0;31m \u001b[0mnetworks\u001b[0m \u001b[0;34m=\u001b[0m \u001b[0;34m{\u001b[0m\u001b[0;34m'vdense'\u001b[0m\u001b[0;34m:\u001b[0m\u001b[0mvdense_network\u001b[0m\u001b[0;34m,\u001b[0m \u001b[0;34m'sparse'\u001b[0m\u001b[0;34m:\u001b[0m\u001b[0msparse_network\u001b[0m\u001b[0;34m}\u001b[0m\u001b[0;34m\u001b[0m\u001b[0;34m\u001b[0m\u001b[0m\n\u001b[0m",
      "\u001b[0;31mNameError\u001b[0m: name 'vdense_network' is not defined"
     ]
    }
   ],
   "source": [
    "networks = {'vdense':vdense_network, 'sparse':sparse_network}"
   ]
  },
  {
   "cell_type": "code",
   "execution_count": 2,
   "metadata": {},
   "outputs": [
    {
     "ename": "NameError",
     "evalue": "name 'networks' is not defined",
     "output_type": "error",
     "traceback": [
      "\u001b[0;31m---------------------------------------------------------------------------\u001b[0m",
      "\u001b[0;31mNameError\u001b[0m                                 Traceback (most recent call last)",
      "\u001b[0;32m<ipython-input-2-09d16c03512d>\u001b[0m in \u001b[0;36m<module>\u001b[0;34m\u001b[0m\n\u001b[1;32m      1\u001b[0m \u001b[0;32mimport\u001b[0m \u001b[0mpickle\u001b[0m \u001b[0;32mas\u001b[0m \u001b[0mpkl\u001b[0m\u001b[0;34m\u001b[0m\u001b[0;34m\u001b[0m\u001b[0m\n\u001b[0;32m----> 2\u001b[0;31m \u001b[0mpkl\u001b[0m\u001b[0;34m.\u001b[0m\u001b[0mdump\u001b[0m\u001b[0;34m(\u001b[0m\u001b[0mnetworks\u001b[0m\u001b[0;34m,\u001b[0m \u001b[0mopen\u001b[0m\u001b[0;34m(\u001b[0m \u001b[0;34m\"/net/ht140/manoj/All_Subjects_networks_R.pkl\"\u001b[0m\u001b[0;34m,\u001b[0m \u001b[0;34m\"wb\"\u001b[0m\u001b[0;34m)\u001b[0m\u001b[0;34m)\u001b[0m\u001b[0;34m\u001b[0m\u001b[0;34m\u001b[0m\u001b[0m\n\u001b[0m",
      "\u001b[0;31mNameError\u001b[0m: name 'networks' is not defined"
     ]
    }
   ],
   "source": [
    "pk.dump(networks, open( \"/net/ht140/manoj/All_Subjects_networks_R.pkl\", \"wb\"))"
   ]
  },
  {
   "cell_type": "code",
   "execution_count": 4,
   "metadata": {},
   "outputs": [],
   "source": [
    "base_dir = '/net/ht140/kamal/MANIA2_PICKLES'\n",
    "network_l_sp = pk.load(open(f'{base_dir}/sparse_left_37.pk', 'rb'))\n",
    "network_r_sp = pk.load(open(f'{base_dir}/sparse_right_37.pk', 'rb'))\n",
    "network_l_vd = pk.load(open(f'{base_dir}/vdense_left_37.pk', 'rb'))\n",
    "network_r_vd = pk.load(open(f'{base_dir}/vdense_right_37.pk', 'rb'))"
   ]
  },
  {
   "cell_type": "markdown",
   "metadata": {},
   "source": [
    "# Corrected ranges containing 0\n",
    "Considering only the ROI pairs for which we actually perform a distance correction, what is the fraction of ROI pairs for which the corrected ranges include 0?"
   ]
  },
  {
   "cell_type": "code",
   "execution_count": 10,
   "metadata": {},
   "outputs": [],
   "source": [
    "subject = 126426\n",
    "network = vdense_network"
   ]
  },
  {
   "cell_type": "code",
   "execution_count": 12,
   "metadata": {},
   "outputs": [],
   "source": [
    "gr0 = {}\n",
    "cw0 = {}\n",
    "for subject in subjects:\n",
    "    for i in range(1,181):\n",
    "        for j in range(i+1, 181):\n",
    "            source, target = 'L%d' % i, 'L%d' % j\n",
    "            st_pair = vdense_network(subject)(source, target, pair=True)\n",
    "            st1, st2 = st_pair.st1, st_pair.st2\n",
    "            reg1, reg2 = st_pair.st1.regressor, st_pair.st2.regressor\n",
    "\n",
    "            if st1.corrected_weight > 0:\n",
    "                st_type = st1.get_type()\n",
    "                if st_type not in gr0:\n",
    "                    gr0[st_type] = []\n",
    "                if st_type not in cw0:\n",
    "                    cw0[st_type] = []\n",
    "                gr0[st_type].append((subject, source, reg1.kind, target, reg2.kind))\n",
    "                min_cw = min(st1._corrected_weights)\n",
    "                if min_cw <= 0:\n",
    "                    cw0[st_type].append((subject, source, reg1.kind, target, reg2.kind))\n",
    "                \n",
    "            if st2.corrected_weight > 0:\n",
    "                st_type = st2.get_type()\n",
    "                if st_type not in gr0:\n",
    "                    gr0[st_type] = []\n",
    "                if st_type not in cw0:\n",
    "                    cw0[st_type] = []\n",
    "                gr0[st_type].append((subject, target, reg2.kind, source, reg1.kind))\n",
    "                min_cw = min(st2._corrected_weights)\n",
    "                if min_cw <= 0:\n",
    "                    cw0[st_type].append((subject, target, reg2.kind, source, reg1.kind))"
   ]
  },
  {
   "cell_type": "code",
   "execution_count": 13,
   "metadata": {},
   "outputs": [
    {
     "data": {
      "text/html": [
       "<table><tr><th>Correction Type</th><th># links min < 0</th><th>Total # > 0</th><th>Percentage</th></tr><tr><th>Independent</th><td>6078</td><td>64337</td><td> 9.45</td></tr><tr><th>one direction</th><td>5565</td><td>86511</td><td> 6.43</td></tr><tr><th>poolAll</th><td>347</td><td>8648</td><td> 4.01</td></tr></table>"
      ],
      "text/plain": [
       "<IPython.core.display.HTML object>"
      ]
     },
     "metadata": {},
     "output_type": "display_data"
    }
   ],
   "source": [
    "html = '<table><tr><th>Correction Type</th><th># links min < 0</th><th>Total # > 0</th><th>Percentage</th></tr>'\n",
    "for st_type, links in gr0.items():\n",
    "    a, b = len(cw0[st_type]), len(gr0[st_type])\n",
    "    html += '<tr><th>%s</th><td>%d</td><td>%d</td><td>%5.2f</td></tr>' % (st_type, a, b, a*100./b)\n",
    "html += '</table>'\n",
    "display(HTML(html))"
   ]
  },
  {
   "cell_type": "markdown",
   "metadata": {},
   "source": [
    "# Modify with lowest value in confidence range"
   ]
  },
  {
   "cell_type": "code",
   "execution_count": 15,
   "metadata": {},
   "outputs": [],
   "source": [
    "gr0_min = {}\n",
    "cw0_min = {}\n",
    "for subject in subjects:\n",
    "    for i in range(1,181):\n",
    "        for j in range(i+1, 181):\n",
    "            source, target = 'L%d' % i, 'L%d' % j\n",
    "            st_pair = vdense_network(subject)(source, target, pair=True)\n",
    "            st1, st2 = st_pair.st1, st_pair.st2\n",
    "            reg1, reg2 = st_pair.st1.regressor, st_pair.st2.regressor\n",
    "\n",
    "            if st1.corrected_weight > 0:\n",
    "                st_type = st1.get_type()\n",
    "                if st_type not in gr0_min:\n",
    "                    gr0_min[st_type] = []\n",
    "                if st_type not in cw0_min:\n",
    "                    cw0_min[st_type] = []\n",
    "                gr0_min[st_type].append((subject, source, reg1.kind, target, reg2.kind))\n",
    "                if st1._corrected_weight_min <= 0:\n",
    "                    cw0_min[st_type].append((subject, source, reg1.kind, target, reg2.kind))\n",
    "                \n",
    "            if st2.corrected_weight > 0:\n",
    "                st_type = st2.get_type()\n",
    "                if st_type not in gr0_min:\n",
    "                    gr0_min[st_type] = []\n",
    "                if st_type not in cw0_min:\n",
    "                    cw0_min[st_type] = []\n",
    "                gr0_min[st_type].append((subject, target, reg2.kind, source, reg1.kind))\n",
    "                if st2._corrected_weight_min <= 0:\n",
    "                    cw0_min[st_type].append((subject, target, reg2.kind, source, reg1.kind))"
   ]
  },
  {
   "cell_type": "code",
   "execution_count": 16,
   "metadata": {},
   "outputs": [
    {
     "data": {
      "text/html": [
       "<table><tr><th>Correction Type</th><th># links min < 0</th><th>Total # > 0</th><th>Percentage</th></tr><tr><th>Independent</th><td>749</td><td>64337</td><td> 1.16</td></tr><tr><th>one direction</th><td>566</td><td>86511</td><td> 0.65</td></tr><tr><th>poolAll</th><td>9</td><td>8648</td><td> 0.10</td></tr></table>"
      ],
      "text/plain": [
       "<IPython.core.display.HTML object>"
      ]
     },
     "metadata": {},
     "output_type": "display_data"
    }
   ],
   "source": [
    "html = '<table><tr><th>Correction Type</th><th># links min < 0</th><th>Total # > 0</th><th>Percentage</th></tr>'\n",
    "for st_type, links in gr0.items():\n",
    "    a, b = len(cw0_min[st_type]), len(gr0_min[st_type])\n",
    "    html += '<tr><th>%s</th><td>%d</td><td>%d</td><td>%5.2f</td></tr>' % (st_type, a, b, a*100./b)\n",
    "html += '</table>'\n",
    "display(HTML(html))"
   ]
  },
  {
   "cell_type": "markdown",
   "metadata": {},
   "source": [
    "# Predictability of Networks\n",
    "\n",
    "One possible study is predicting if an edge existing is subject $i$ using all other subjects $S_{-i}$. To do this, we introduce a detection threshold $\\gamma$ i.e., if edge $e$ is present in $\\gamma$ fraction of subjects in $S_{-i}$ it will be present in $S_i$. Since it is a detection problem, we can study the ROC parameterized by $\\gamma$. We should show that MANIA2 has a better prediction power than a fixed threshold."
   ]
  },
  {
   "cell_type": "code",
   "execution_count": 21,
   "metadata": {},
   "outputs": [],
   "source": [
    "network = vdense_network\n",
    "total_connected = np.zeros((181,181))\n",
    "total_connected_1 = np.zeros((181,181))\n",
    "\n",
    "for i in range(1, 181):\n",
    "    for j in range(1, 181):\n",
    "        if i == j:\n",
    "            continue\n",
    "        source, target = 'L%d' % i, 'L%d' % j\n",
    "        for sub_i in subjects:\n",
    "            if network(sub_i).is_connected(source, target):\n",
    "                total_connected[i,j] += 1\n",
    "            if network(sub_i).is_connected(source, target, mania2=False):\n",
    "                total_connected_1[i,j] += 1"
   ]
  },
  {
   "cell_type": "code",
   "execution_count": 22,
   "metadata": {},
   "outputs": [
    {
     "data": {
      "application/vnd.jupyter.widget-view+json": {
       "model_id": "cc58fe936fa740f099fad01485000683",
       "version_major": 2,
       "version_minor": 0
      },
      "text/plain": [
       "HBox(children=(IntProgress(value=0, description='Gamma', max=36, style=ProgressStyle(description_width='initia…"
      ]
     },
     "metadata": {},
     "output_type": "display_data"
    },
    {
     "data": {
      "application/vnd.jupyter.widget-view+json": {
       "model_id": "",
       "version_major": 2,
       "version_minor": 0
      },
      "text/plain": [
       "HBox(children=(IntProgress(value=0, description='Subjects', max=37, style=ProgressStyle(description_width='ini…"
      ]
     },
     "metadata": {},
     "output_type": "display_data"
    },
    {
     "data": {
      "application/vnd.jupyter.widget-view+json": {
       "model_id": "",
       "version_major": 2,
       "version_minor": 0
      },
      "text/plain": [
       "HBox(children=(IntProgress(value=0, description='Subjects', max=37, style=ProgressStyle(description_width='ini…"
      ]
     },
     "metadata": {},
     "output_type": "display_data"
    },
    {
     "data": {
      "application/vnd.jupyter.widget-view+json": {
       "model_id": "",
       "version_major": 2,
       "version_minor": 0
      },
      "text/plain": [
       "HBox(children=(IntProgress(value=0, description='Subjects', max=37, style=ProgressStyle(description_width='ini…"
      ]
     },
     "metadata": {},
     "output_type": "display_data"
    },
    {
     "data": {
      "application/vnd.jupyter.widget-view+json": {
       "model_id": "",
       "version_major": 2,
       "version_minor": 0
      },
      "text/plain": [
       "HBox(children=(IntProgress(value=0, description='Subjects', max=37, style=ProgressStyle(description_width='ini…"
      ]
     },
     "metadata": {},
     "output_type": "display_data"
    },
    {
     "data": {
      "application/vnd.jupyter.widget-view+json": {
       "model_id": "",
       "version_major": 2,
       "version_minor": 0
      },
      "text/plain": [
       "HBox(children=(IntProgress(value=0, description='Subjects', max=37, style=ProgressStyle(description_width='ini…"
      ]
     },
     "metadata": {},
     "output_type": "display_data"
    },
    {
     "data": {
      "application/vnd.jupyter.widget-view+json": {
       "model_id": "",
       "version_major": 2,
       "version_minor": 0
      },
      "text/plain": [
       "HBox(children=(IntProgress(value=0, description='Subjects', max=37, style=ProgressStyle(description_width='ini…"
      ]
     },
     "metadata": {},
     "output_type": "display_data"
    },
    {
     "data": {
      "application/vnd.jupyter.widget-view+json": {
       "model_id": "",
       "version_major": 2,
       "version_minor": 0
      },
      "text/plain": [
       "HBox(children=(IntProgress(value=0, description='Subjects', max=37, style=ProgressStyle(description_width='ini…"
      ]
     },
     "metadata": {},
     "output_type": "display_data"
    },
    {
     "data": {
      "application/vnd.jupyter.widget-view+json": {
       "model_id": "",
       "version_major": 2,
       "version_minor": 0
      },
      "text/plain": [
       "HBox(children=(IntProgress(value=0, description='Subjects', max=37, style=ProgressStyle(description_width='ini…"
      ]
     },
     "metadata": {},
     "output_type": "display_data"
    },
    {
     "data": {
      "application/vnd.jupyter.widget-view+json": {
       "model_id": "",
       "version_major": 2,
       "version_minor": 0
      },
      "text/plain": [
       "HBox(children=(IntProgress(value=0, description='Subjects', max=37, style=ProgressStyle(description_width='ini…"
      ]
     },
     "metadata": {},
     "output_type": "display_data"
    },
    {
     "data": {
      "application/vnd.jupyter.widget-view+json": {
       "model_id": "",
       "version_major": 2,
       "version_minor": 0
      },
      "text/plain": [
       "HBox(children=(IntProgress(value=0, description='Subjects', max=37, style=ProgressStyle(description_width='ini…"
      ]
     },
     "metadata": {},
     "output_type": "display_data"
    },
    {
     "data": {
      "application/vnd.jupyter.widget-view+json": {
       "model_id": "",
       "version_major": 2,
       "version_minor": 0
      },
      "text/plain": [
       "HBox(children=(IntProgress(value=0, description='Subjects', max=37, style=ProgressStyle(description_width='ini…"
      ]
     },
     "metadata": {},
     "output_type": "display_data"
    },
    {
     "data": {
      "application/vnd.jupyter.widget-view+json": {
       "model_id": "",
       "version_major": 2,
       "version_minor": 0
      },
      "text/plain": [
       "HBox(children=(IntProgress(value=0, description='Subjects', max=37, style=ProgressStyle(description_width='ini…"
      ]
     },
     "metadata": {},
     "output_type": "display_data"
    },
    {
     "data": {
      "application/vnd.jupyter.widget-view+json": {
       "model_id": "",
       "version_major": 2,
       "version_minor": 0
      },
      "text/plain": [
       "HBox(children=(IntProgress(value=0, description='Subjects', max=37, style=ProgressStyle(description_width='ini…"
      ]
     },
     "metadata": {},
     "output_type": "display_data"
    },
    {
     "data": {
      "application/vnd.jupyter.widget-view+json": {
       "model_id": "",
       "version_major": 2,
       "version_minor": 0
      },
      "text/plain": [
       "HBox(children=(IntProgress(value=0, description='Subjects', max=37, style=ProgressStyle(description_width='ini…"
      ]
     },
     "metadata": {},
     "output_type": "display_data"
    },
    {
     "data": {
      "application/vnd.jupyter.widget-view+json": {
       "model_id": "",
       "version_major": 2,
       "version_minor": 0
      },
      "text/plain": [
       "HBox(children=(IntProgress(value=0, description='Subjects', max=37, style=ProgressStyle(description_width='ini…"
      ]
     },
     "metadata": {},
     "output_type": "display_data"
    },
    {
     "data": {
      "application/vnd.jupyter.widget-view+json": {
       "model_id": "",
       "version_major": 2,
       "version_minor": 0
      },
      "text/plain": [
       "HBox(children=(IntProgress(value=0, description='Subjects', max=37, style=ProgressStyle(description_width='ini…"
      ]
     },
     "metadata": {},
     "output_type": "display_data"
    },
    {
     "data": {
      "application/vnd.jupyter.widget-view+json": {
       "model_id": "",
       "version_major": 2,
       "version_minor": 0
      },
      "text/plain": [
       "HBox(children=(IntProgress(value=0, description='Subjects', max=37, style=ProgressStyle(description_width='ini…"
      ]
     },
     "metadata": {},
     "output_type": "display_data"
    },
    {
     "data": {
      "application/vnd.jupyter.widget-view+json": {
       "model_id": "",
       "version_major": 2,
       "version_minor": 0
      },
      "text/plain": [
       "HBox(children=(IntProgress(value=0, description='Subjects', max=37, style=ProgressStyle(description_width='ini…"
      ]
     },
     "metadata": {},
     "output_type": "display_data"
    },
    {
     "data": {
      "application/vnd.jupyter.widget-view+json": {
       "model_id": "",
       "version_major": 2,
       "version_minor": 0
      },
      "text/plain": [
       "HBox(children=(IntProgress(value=0, description='Subjects', max=37, style=ProgressStyle(description_width='ini…"
      ]
     },
     "metadata": {},
     "output_type": "display_data"
    },
    {
     "data": {
      "application/vnd.jupyter.widget-view+json": {
       "model_id": "",
       "version_major": 2,
       "version_minor": 0
      },
      "text/plain": [
       "HBox(children=(IntProgress(value=0, description='Subjects', max=37, style=ProgressStyle(description_width='ini…"
      ]
     },
     "metadata": {},
     "output_type": "display_data"
    },
    {
     "data": {
      "application/vnd.jupyter.widget-view+json": {
       "model_id": "",
       "version_major": 2,
       "version_minor": 0
      },
      "text/plain": [
       "HBox(children=(IntProgress(value=0, description='Subjects', max=37, style=ProgressStyle(description_width='ini…"
      ]
     },
     "metadata": {},
     "output_type": "display_data"
    },
    {
     "data": {
      "application/vnd.jupyter.widget-view+json": {
       "model_id": "",
       "version_major": 2,
       "version_minor": 0
      },
      "text/plain": [
       "HBox(children=(IntProgress(value=0, description='Subjects', max=37, style=ProgressStyle(description_width='ini…"
      ]
     },
     "metadata": {},
     "output_type": "display_data"
    },
    {
     "data": {
      "application/vnd.jupyter.widget-view+json": {
       "model_id": "",
       "version_major": 2,
       "version_minor": 0
      },
      "text/plain": [
       "HBox(children=(IntProgress(value=0, description='Subjects', max=37, style=ProgressStyle(description_width='ini…"
      ]
     },
     "metadata": {},
     "output_type": "display_data"
    },
    {
     "data": {
      "application/vnd.jupyter.widget-view+json": {
       "model_id": "",
       "version_major": 2,
       "version_minor": 0
      },
      "text/plain": [
       "HBox(children=(IntProgress(value=0, description='Subjects', max=37, style=ProgressStyle(description_width='ini…"
      ]
     },
     "metadata": {},
     "output_type": "display_data"
    },
    {
     "data": {
      "application/vnd.jupyter.widget-view+json": {
       "model_id": "",
       "version_major": 2,
       "version_minor": 0
      },
      "text/plain": [
       "HBox(children=(IntProgress(value=0, description='Subjects', max=37, style=ProgressStyle(description_width='ini…"
      ]
     },
     "metadata": {},
     "output_type": "display_data"
    },
    {
     "data": {
      "application/vnd.jupyter.widget-view+json": {
       "model_id": "",
       "version_major": 2,
       "version_minor": 0
      },
      "text/plain": [
       "HBox(children=(IntProgress(value=0, description='Subjects', max=37, style=ProgressStyle(description_width='ini…"
      ]
     },
     "metadata": {},
     "output_type": "display_data"
    },
    {
     "data": {
      "application/vnd.jupyter.widget-view+json": {
       "model_id": "",
       "version_major": 2,
       "version_minor": 0
      },
      "text/plain": [
       "HBox(children=(IntProgress(value=0, description='Subjects', max=37, style=ProgressStyle(description_width='ini…"
      ]
     },
     "metadata": {},
     "output_type": "display_data"
    },
    {
     "data": {
      "application/vnd.jupyter.widget-view+json": {
       "model_id": "",
       "version_major": 2,
       "version_minor": 0
      },
      "text/plain": [
       "HBox(children=(IntProgress(value=0, description='Subjects', max=37, style=ProgressStyle(description_width='ini…"
      ]
     },
     "metadata": {},
     "output_type": "display_data"
    },
    {
     "data": {
      "application/vnd.jupyter.widget-view+json": {
       "model_id": "",
       "version_major": 2,
       "version_minor": 0
      },
      "text/plain": [
       "HBox(children=(IntProgress(value=0, description='Subjects', max=37, style=ProgressStyle(description_width='ini…"
      ]
     },
     "metadata": {},
     "output_type": "display_data"
    },
    {
     "data": {
      "application/vnd.jupyter.widget-view+json": {
       "model_id": "",
       "version_major": 2,
       "version_minor": 0
      },
      "text/plain": [
       "HBox(children=(IntProgress(value=0, description='Subjects', max=37, style=ProgressStyle(description_width='ini…"
      ]
     },
     "metadata": {},
     "output_type": "display_data"
    },
    {
     "data": {
      "application/vnd.jupyter.widget-view+json": {
       "model_id": "",
       "version_major": 2,
       "version_minor": 0
      },
      "text/plain": [
       "HBox(children=(IntProgress(value=0, description='Subjects', max=37, style=ProgressStyle(description_width='ini…"
      ]
     },
     "metadata": {},
     "output_type": "display_data"
    },
    {
     "data": {
      "application/vnd.jupyter.widget-view+json": {
       "model_id": "",
       "version_major": 2,
       "version_minor": 0
      },
      "text/plain": [
       "HBox(children=(IntProgress(value=0, description='Subjects', max=37, style=ProgressStyle(description_width='ini…"
      ]
     },
     "metadata": {},
     "output_type": "display_data"
    },
    {
     "data": {
      "application/vnd.jupyter.widget-view+json": {
       "model_id": "",
       "version_major": 2,
       "version_minor": 0
      },
      "text/plain": [
       "HBox(children=(IntProgress(value=0, description='Subjects', max=37, style=ProgressStyle(description_width='ini…"
      ]
     },
     "metadata": {},
     "output_type": "display_data"
    },
    {
     "data": {
      "application/vnd.jupyter.widget-view+json": {
       "model_id": "",
       "version_major": 2,
       "version_minor": 0
      },
      "text/plain": [
       "HBox(children=(IntProgress(value=0, description='Subjects', max=37, style=ProgressStyle(description_width='ini…"
      ]
     },
     "metadata": {},
     "output_type": "display_data"
    },
    {
     "data": {
      "application/vnd.jupyter.widget-view+json": {
       "model_id": "",
       "version_major": 2,
       "version_minor": 0
      },
      "text/plain": [
       "HBox(children=(IntProgress(value=0, description='Subjects', max=37, style=ProgressStyle(description_width='ini…"
      ]
     },
     "metadata": {},
     "output_type": "display_data"
    },
    {
     "data": {
      "application/vnd.jupyter.widget-view+json": {
       "model_id": "",
       "version_major": 2,
       "version_minor": 0
      },
      "text/plain": [
       "HBox(children=(IntProgress(value=0, description='Subjects', max=37, style=ProgressStyle(description_width='ini…"
      ]
     },
     "metadata": {},
     "output_type": "display_data"
    }
   ],
   "source": [
    "num_correct, num_corr_m1 = [], []\n",
    "for gamma in tqdm(range(1, len(subjects)), desc='Gamma'):\n",
    "    n_correct, n_corr_m1 = 0, 0\n",
    "    for sub_i in tqdm(subjects, desc='Subjects', leave=False):\n",
    "        for i in range(1,181):\n",
    "            for j in range(1, 181):\n",
    "                if i == j:\n",
    "                    continue\n",
    "                source, target = 'L%d' % i, 'L%d' % j\n",
    "                # Mania 2\n",
    "                n_connected = total_connected[i,j]\n",
    "                if network(sub_j).is_connected(source, target):\n",
    "                    n_connected -= 1\n",
    "                if network(sub_j).is_connected(source, target) and n_connected >= gamma:\n",
    "                    n_correct += 1\n",
    "                if (not network(sub_j).is_connected(source, target)) and n_connected < gamma:\n",
    "                    n_correct += 1\n",
    "                # Mania 1\n",
    "                n_connected = total_connected_1[i,j]\n",
    "                if network(sub_j).is_connected(source, target, False):\n",
    "                    n_connected -= 1\n",
    "                if network(sub_j).is_connected(source, target, False) and n_connected >= gamma:\n",
    "                    n_corr_m1 += 1\n",
    "                if (not network(sub_j).is_connected(source, target, False)) and n_connected < gamma:\n",
    "                    n_corr_m1 += 1\n",
    "    num_correct.append(n_correct)\n",
    "    num_corr_m1.append(n_corr_m1)"
   ]
  },
  {
   "cell_type": "code",
   "execution_count": null,
   "metadata": {},
   "outputs": [
    {
     "ename": "NameError",
     "evalue": "name 'subjects' is not defined",
     "output_type": "error",
     "traceback": [
      "\u001b[0;31m---------------------------------------------------------------------------\u001b[0m",
      "\u001b[0;31mNameError\u001b[0m                                 Traceback (most recent call last)",
      "\u001b[0;32m<ipython-input-1-be8101c1c099>\u001b[0m in \u001b[0;36m<module>\u001b[0;34m\u001b[0m\n\u001b[0;32m----> 1\u001b[0;31m \u001b[0mden\u001b[0m \u001b[0;34m=\u001b[0m \u001b[0mlen\u001b[0m\u001b[0;34m(\u001b[0m\u001b[0msubjects\u001b[0m\u001b[0;34m)\u001b[0m\u001b[0;34m*\u001b[0m\u001b[0;36m180\u001b[0m\u001b[0;34m*\u001b[0m\u001b[0;36m179.\u001b[0m\u001b[0;34m\u001b[0m\u001b[0;34m\u001b[0m\u001b[0m\n\u001b[0m\u001b[1;32m      2\u001b[0m \u001b[0mlists\u001b[0m \u001b[0;34m=\u001b[0m \u001b[0msorted\u001b[0m\u001b[0;34m(\u001b[0m\u001b[0mnum_correct\u001b[0m\u001b[0;34m.\u001b[0m\u001b[0mitems\u001b[0m\u001b[0;34m(\u001b[0m\u001b[0;34m)\u001b[0m\u001b[0;34m)\u001b[0m\u001b[0;34m\u001b[0m\u001b[0;34m\u001b[0m\u001b[0m\n\u001b[1;32m      3\u001b[0m \u001b[0mx\u001b[0m\u001b[0;34m,\u001b[0m \u001b[0my\u001b[0m \u001b[0;34m=\u001b[0m \u001b[0mzip\u001b[0m\u001b[0;34m(\u001b[0m\u001b[0;34m*\u001b[0m\u001b[0mlists\u001b[0m\u001b[0;34m)\u001b[0m\u001b[0;34m\u001b[0m\u001b[0;34m\u001b[0m\u001b[0m\n\u001b[1;32m      4\u001b[0m \u001b[0mx\u001b[0m\u001b[0;34m,\u001b[0m \u001b[0my\u001b[0m \u001b[0;34m=\u001b[0m \u001b[0mlist\u001b[0m\u001b[0;34m(\u001b[0m\u001b[0mx\u001b[0m\u001b[0;34m)\u001b[0m\u001b[0;34m,\u001b[0m \u001b[0mlist\u001b[0m\u001b[0;34m(\u001b[0m\u001b[0my\u001b[0m\u001b[0;34m)\u001b[0m\u001b[0;34m\u001b[0m\u001b[0;34m\u001b[0m\u001b[0m\n\u001b[1;32m      5\u001b[0m \u001b[0my\u001b[0m \u001b[0;34m=\u001b[0m \u001b[0;34m[\u001b[0m\u001b[0mi\u001b[0m\u001b[0;34m/\u001b[0m\u001b[0mden\u001b[0m \u001b[0;32mfor\u001b[0m \u001b[0mi\u001b[0m \u001b[0;32min\u001b[0m \u001b[0my\u001b[0m\u001b[0;34m]\u001b[0m\u001b[0;34m\u001b[0m\u001b[0;34m\u001b[0m\u001b[0m\n",
      "\u001b[0;31mNameError\u001b[0m: name 'subjects' is not defined"
     ]
    }
   ],
   "source": [
    "den = len(subjects)*180*179.\n",
    "lists = sorted(num_correct.items())\n",
    "x, y = zip(*lists)\n",
    "x, y = list(x), list(y)\n",
    "y = [i/den for i in y]\n",
    "plt.figure()\n",
    "plt.plot(x,y)\n",
    "plt.grid()\n",
    "plt.show()"
   ]
  },
  {
   "cell_type": "code",
   "execution_count": null,
   "metadata": {},
   "outputs": [],
   "source": [
    "subjects = sub_train\n",
    "network = vdense_network\n",
    "tp, fp, fn, tn = [], [], [], []\n",
    "den = len(subjects)*180*179.\n",
    "\n",
    "for gamma in tqdm(range(1, len(subjects)), desc='Gamma'):\n",
    "    n_tp, n_fp, n_fn, n_tn = 0, 0, 0, 0\n",
    "    for sub_i in tqdm(subjects, desc='Subjects', leave=False):\n",
    "        for i in range(1,181):\n",
    "            for j in range(1, 181):\n",
    "                if i == j:\n",
    "                    continue\n",
    "                source, target = 'L%d' % i, 'L%d' % j\n",
    "                n_connected = total_connected[i,j]\n",
    "                if network(sub_j).is_connected(source, target):\n",
    "                    n_connected -= 1\n",
    "                if n_connected >= gamma: # Actual value True\n",
    "                    if network(sub_j).is_connected(source, target): # Predicted True\n",
    "                        n_tp += 1\n",
    "                    else: # Predicted False\n",
    "                        n_fn += 1 # Predicted\n",
    "                else: # Actual value False\n",
    "                    if network(sub_j).is_connected(source, target): # Predicted True\n",
    "                        n_fp += 1\n",
    "                    else: # Predicted False\n",
    "                        n_tn += 1\n",
    "    n_tp, n_fp, n_fn, n_tn = n_tp/den, n_fp/den, n_fn/den, n_tn/den\n",
    "    tp.append(n_tp)\n",
    "    fp.append(n_fp)\n",
    "    tn.append(n_tn)\n",
    "    fn.append(n_fn)"
   ]
  },
  {
   "cell_type": "code",
   "execution_count": null,
   "metadata": {},
   "outputs": [],
   "source": [
    "tpr = list(np.divide(tp, [sum(x) for x in zip(tp, fn)]))\n",
    "fpr = list(np.divide(fp, [sum(x) for x in zip(fp, tn)]))\n",
    "tpr.insert(0, 0)\n",
    "tpr.append(1)\n",
    "fpr.insert(0, 0)\n",
    "fpr.append(1)\n",
    "plt.figure()\n",
    "plt.plot(fpr, tpr)\n",
    "plt.grid()\n",
    "plt.show()"
   ]
  },
  {
   "cell_type": "markdown",
   "metadata": {},
   "source": [
    "# Network Density and Consistency across Subjects"
   ]
  },
  {
   "cell_type": "code",
   "execution_count": 38,
   "metadata": {},
   "outputs": [
    {
     "data": {
      "application/vnd.jupyter.widget-view+json": {
       "model_id": "7d934e21ad004f99bd0339b73cd319b9",
       "version_major": 2,
       "version_minor": 0
      },
      "text/plain": [
       "HBox(children=(IntProgress(value=0, max=37), HTML(value='')))"
      ]
     },
     "metadata": {},
     "output_type": "display_data"
    }
   ],
   "source": [
    "n_connected_vd = 0\n",
    "n_connected_sp = 0\n",
    "den = len(subjects) * 180 * 179\n",
    "den_sub = 180 * 179 / 100.\n",
    "\n",
    "n_conn_sub_vd, n_conn_sub_sp = {}, {}\n",
    "thrsh_vd, thrsh_sp = {}, {}\n",
    "nar_vd, nar_sp = {}, {}\n",
    "nar_vd_avg, nar_sp_avg, thrsh_vd_avg, thrsh_sp_avg = 0, 0, 0, 0\n",
    "\n",
    "for subject in tqdm(subjects):\n",
    "    n_conn_sub_vd[subject], n_conn_sub_sp[subject] = 0, 0\n",
    "    thrsh_vd[subject] = vdense_network(subject).threshold2\n",
    "    thrsh_sp[subject] = sparse_network(subject).threshold2\n",
    "    nar_vd[subject] = mn.utils.NAR(vdense_network(subject).mania2_network)\n",
    "    nar_sp[subject] = mn.utils.NAR(sparse_network(subject).mania2_network)\n",
    "    nar_vd_avg += nar_vd[subject]\n",
    "    nar_sp_avg += nar_sp[subject]\n",
    "    thrsh_vd_avg += thrsh_vd[subject]\n",
    "    thrsh_sp_avg += thrsh_sp[subject]\n",
    "    for i in range(1, 181):\n",
    "        for j in range(i+1, 181):\n",
    "            source, target = 'L%d' % i, 'L%d' % j\n",
    "            if vdense_network(subject).is_connected(source, target):\n",
    "                n_connected_vd += 1\n",
    "                n_conn_sub_vd[subject] += 1\n",
    "            if vdense_network(subject).is_connected(target, source):\n",
    "                n_connected_vd += 1\n",
    "                n_conn_sub_vd[subject] += 1\n",
    "            if sparse_network(subject).is_connected(source, target):\n",
    "                n_connected_sp += 1\n",
    "                n_conn_sub_sp[subject] += 1\n",
    "            if sparse_network(subject).is_connected(target, source):\n",
    "                n_connected_sp += 1\n",
    "                n_conn_sub_sp[subject] += 1\n",
    "    n_conn_sub_vd[subject] /= den_sub\n",
    "    n_conn_sub_sp[subject] /= den_sub\n",
    "\n",
    "nar_vd_avg /= float(len(subjects))\n",
    "nar_sp_avg /= float(len(subjects))\n",
    "thrsh_vd_avg /= float(len(subjects))\n",
    "thrsh_sp_avg /= float(len(subjects))"
   ]
  },
  {
   "cell_type": "code",
   "execution_count": 39,
   "metadata": {},
   "outputs": [
    {
     "name": "stdout",
     "output_type": "stream",
     "text": [
      "Density of Very Dense Network: 26.4761%\n",
      "Density of Sparse Network: 11.4128%\n"
     ]
    }
   ],
   "source": [
    "density_vd = n_connected_vd * 100. / den\n",
    "density_sp = n_connected_sp * 100. / den\n",
    "print('Density of Very Dense Network: %g%%' % density_vd)\n",
    "print('Density of Sparse Network: %g%%' % density_sp)"
   ]
  },
  {
   "cell_type": "code",
   "execution_count": 40,
   "metadata": {},
   "outputs": [
    {
     "data": {
      "text/html": [
       "<table><tr><th rowspan=\"2\" align=\"center\" >Subject</th><th colspan=\"3\">Sparse</th><th colspan=\"3\">Very Dense</th></tr><tr><th>Density</th><th>Threshold</th><th>NAR</th><th>Density</th><th>Threshold</th><th>NAR</th></tr><tr><td>126426</td><td>12.79%</td><td>357</td><td>0.107</td><td>29.31%</td><td>66</td><td>0.083</td></tr><tr><td>135124</td><td>11.72%</td><td>513</td><td>0.090</td><td>26.16%</td><td>73</td><td>0.073</td></tr><tr><td>137431</td><td>12.27%</td><td>477</td><td>0.106</td><td>27.92%</td><td>91</td><td>0.070</td></tr><tr><td>144125</td><td>12.50%</td><td>413</td><td>0.110</td><td>28.98%</td><td>60</td><td>0.094</td></tr><tr><td>146735</td><td>12.81%</td><td>317</td><td>0.100</td><td>26.19%</td><td>134</td><td>0.087</td></tr><tr><td>152427</td><td>12.17%</td><td>437</td><td>0.094</td><td>26.03%</td><td>73</td><td>0.074</td></tr><tr><td>153227</td><td>12.82%</td><td>497</td><td>0.100</td><td>31.11%</td><td>52</td><td>0.093</td></tr><tr><td>177140</td><td>12.90%</td><td>370</td><td>0.117</td><td>31.66%</td><td>48</td><td>0.095</td></tr><tr><td>180533</td><td> 9.15%</td><td>863</td><td>0.092</td><td>21.87%</td><td>150</td><td>0.084</td></tr><tr><td>186545</td><td>11.19%</td><td>481</td><td>0.102</td><td>25.24%</td><td>116</td><td>0.078</td></tr><tr><td>188145</td><td>10.65%</td><td>684</td><td>0.099</td><td>27.53%</td><td>60</td><td>0.074</td></tr><tr><td>192237</td><td>11.06%</td><td>700</td><td>0.092</td><td>26.09%</td><td>96</td><td>0.072</td></tr><tr><td>206323</td><td>11.42%</td><td>451</td><td>0.085</td><td>26.25%</td><td>81</td><td>0.067</td></tr><tr><td>227533</td><td>12.89%</td><td>433</td><td>0.101</td><td>29.80%</td><td>52</td><td>0.073</td></tr><tr><td>248238</td><td>11.87%</td><td>512</td><td>0.102</td><td>27.48%</td><td>74</td><td>0.069</td></tr><tr><td>360030</td><td>12.47%</td><td>431</td><td>0.094</td><td>27.63%</td><td>113</td><td>0.075</td></tr><tr><td>361234</td><td> 9.91%</td><td>1091</td><td>0.101</td><td>25.52%</td><td>108</td><td>0.083</td></tr><tr><td>362034</td><td> 9.28%</td><td>632</td><td>0.082</td><td>21.65%</td><td>126</td><td>0.078</td></tr><tr><td>368753</td><td>13.35%</td><td>421</td><td>0.103</td><td>29.70%</td><td>80</td><td>0.065</td></tr><tr><td>401422</td><td>12.87%</td><td>459</td><td>0.098</td><td>30.31%</td><td>58</td><td>0.090</td></tr><tr><td>413934</td><td>10.48%</td><td>615</td><td>0.096</td><td>23.79%</td><td>95</td><td>0.079</td></tr><tr><td>453542</td><td>11.03%</td><td>410</td><td>0.088</td><td>23.98%</td><td>166</td><td>0.070</td></tr><tr><td>463040</td><td>12.09%</td><td>476</td><td>0.102</td><td>27.52%</td><td>92</td><td>0.087</td></tr><tr><td>468050</td><td>11.71%</td><td>589</td><td>0.104</td><td>27.33%</td><td>86</td><td>0.077</td></tr><tr><td>481042</td><td>11.01%</td><td>474</td><td>0.097</td><td>26.39%</td><td>74</td><td>0.078</td></tr><tr><td>825654</td><td>10.55%</td><td>397</td><td>0.097</td><td>23.01%</td><td>92</td><td>0.074</td></tr><tr><td>911849</td><td>10.21%</td><td>767</td><td>0.104</td><td>25.68%</td><td>91</td><td>0.092</td></tr><tr><td>917558</td><td>12.05%</td><td>508</td><td>0.092</td><td>27.14%</td><td>89</td><td>0.077</td></tr><tr><td>992673</td><td>12.18%</td><td>439</td><td>0.117</td><td>28.25%</td><td>60</td><td>0.079</td></tr><tr><td>558960</td><td>10.90%</td><td>552</td><td>0.094</td><td>25.58%</td><td>99</td><td>0.078</td></tr><tr><td>569965</td><td> 7.99%</td><td>930</td><td>0.092</td><td>19.04%</td><td>155</td><td>0.078</td></tr><tr><td>644246</td><td>12.54%</td><td>401</td><td>0.111</td><td>28.30%</td><td>115</td><td>0.078</td></tr><tr><td>654552</td><td>13.14%</td><td>421</td><td>0.102</td><td>31.22%</td><td>67</td><td>0.095</td></tr><tr><td>680452</td><td> 9.49%</td><td>813</td><td>0.096</td><td>22.40%</td><td>116</td><td>0.077</td></tr><tr><td>701535</td><td>10.18%</td><td>695</td><td>0.099</td><td>24.65%</td><td>104</td><td>0.085</td></tr><tr><td>804646</td><td> 8.64%</td><td>664</td><td>0.086</td><td>19.56%</td><td>165</td><td>0.075</td></tr><tr><td>814548</td><td>12.01%</td><td>368</td><td>0.098</td><td>29.33%</td><td>64</td><td>0.074</td></tr><tr><th>Mean</th><th>11.41%</th><th>542</th><th>0.099</th><th>26.48%</th><th>93</th><th>0.079</th>"
      ],
      "text/plain": [
       "<IPython.core.display.HTML object>"
      ]
     },
     "metadata": {},
     "output_type": "display_data"
    }
   ],
   "source": [
    "html = '<table><tr><th rowspan=\"2\" align=\"center\" >Subject</th><th colspan=\"3\">Sparse</th><th colspan=\"3\">Very Dense</th></tr><tr>'\n",
    "for i in range(2):\n",
    "    html += '<th>Density</th><th>Threshold</th><th>NAR</th>'\n",
    "html += '</tr>'\n",
    "for subject in subjects:\n",
    "    html += \"<tr><td>%d</td>\" % subject\n",
    "    html += \"<td>%5.2f%%</td><td>%d</td><td>%5.3f</td>\" % (n_conn_sub_sp[subject], thrsh_sp[subject], nar_sp[subject])\n",
    "    html += \"<td>%5.2f%%</td><td>%d</td><td>%5.3f</td>\" % (n_conn_sub_vd[subject], thrsh_vd[subject], nar_vd[subject])\n",
    "    html += \"</tr>\"\n",
    "html += f'<tr><th>Mean</th>'\n",
    "html += \"<th>%5.2f%%</th><th>%d</th><th>%5.3f</th>\" % (density_sp, thrsh_sp_avg, nar_sp_avg)\n",
    "html += \"<th>%5.2f%%</th><th>%d</th><th>%5.3f</th>\" % (density_vd, thrsh_vd_avg, nar_vd_avg)\n",
    "display(HTML(html))"
   ]
  },
  {
   "cell_type": "markdown",
   "metadata": {},
   "source": [
    "# Mania Plots"
   ]
  },
  {
   "cell_type": "code",
   "execution_count": 42,
   "metadata": {},
   "outputs": [],
   "source": [
    "plot_manias_cache = dict()"
   ]
  },
  {
   "cell_type": "code",
   "execution_count": 56,
   "metadata": {},
   "outputs": [],
   "source": [
    "def plot_manias(subject):\n",
    "    subject = int(subject)\n",
    "    if subject not in plot_manias_cache:\n",
    "        sparse_sub, vdense_sub = sparse_network(subject), vdense_network(subject)\n",
    "        _,den_1,nar_1,t_1 = mn.utils.networks.mania_on_mat(vdense_sub.matrix1)\n",
    "        _,den_s,nar_s,t_s = mn.utils.networks.mania_on_mat(sparse_sub.matrix2)\n",
    "        _,den_vd,nar_vd,t_vd = mn.utils.networks.mania_on_mat(vdense_sub.matrix2)\n",
    "        threshold_1 = vdense_sub.threshold1\n",
    "        threshold_s, threshold_vd = sparse_sub.threshold2, vdense_sub.threshold2\n",
    "        idx_1, idx_vd, idx_s = np.argmin(nar_1), np.argmin(nar_vd), np.argmin(nar_s)\n",
    "        density_1, density_vd, density_s = den_1[idx_1], den_vd[idx_vd], den_s[idx_s]\n",
    "        nar_value_1, nar_value_vd, nar_value_s = nar_1[idx_1], nar_vd[idx_vd], nar_s[idx_s]\n",
    "        d = dict()\n",
    "        d['den_1'], d['den_s'], d['den_vd'] = den_1, den_s, den_vd\n",
    "        d['nar_1'], d['nar_s'], d['nar_vd'] = nar_1, nar_s, nar_vd\n",
    "        d['density_1'], d['density_s'], d['density_vd'] = density_1, density_s, density_vd\n",
    "        d['nar_value_1'], d['nar_value_s'], d['nar_value_vd'] = nar_value_1, nar_value_s, nar_value_vd\n",
    "        d['t_1'], d['t_s'], d['t_vd'] = t_1, t_s, t_vd\n",
    "        d['threshold_1'], d['threshold_s'], d['threshold_vd'] = threshold_1, threshold_s, threshold_vd\n",
    "        plot_manias_cache[subject] = d\n",
    "    else:\n",
    "        d = plot_manias_cache[subject]\n",
    "        den_1, den_s, den_vd = d['den_1'], d['den_s'], d['den_vd']\n",
    "        nar_1, nar_s, nar_vd = d['nar_1'], d['nar_s'], d['nar_vd']\n",
    "        density_1, density_s, density_vd = d['density_1'], d['density_s'], d['density_vd']\n",
    "        nar_value_1, nar_value_s, nar_value_vd = d['nar_value_1'], d['nar_value_s'], d['nar_value_vd']\n",
    "        t_1, t_s, t_vd = d['t_1'], d['t_s'], d['t_vd']\n",
    "        threshold_1, threshold_s, threshold_vd = d['threshold_1'], d['threshold_s'], d['threshold_vd']\n",
    "    \n",
    "    fig, ax = plt.subplots(nrows=1, ncols=2,figsize=(10,6))\n",
    "    ax[0].plot(den_1,nar_1,'b-',lw=2,label='MANIA 1')\n",
    "    ax[0].plot(den_s,nar_s,'g-',lw=2,label='Sparse')\n",
    "    ax[0].plot(den_vd,nar_vd,'m-',lw=2,label='Very Dense')\n",
    "    ax[0].axvline(density_1, 0, 1, color='b', linestyle='dashed', lw=1)\n",
    "    ax[0].axvline(density_s, 0, 1, color='g', linestyle='dashed', lw=1)\n",
    "    ax[0].axvline(density_vd, 0, 1, color='m', linestyle='dashed', lw=1)\n",
    "    ax[0].axhline(nar_value_1, 0, 1, color='b', linestyle='dashed', lw=1)\n",
    "    ax[0].axhline(nar_value_s, 0, 1, color='g', linestyle='dashed', lw=1)\n",
    "    ax[0].axhline(nar_value_vd, 0, 1, color='m', linestyle='dashed', lw=1)\n",
    "    ax[0].set_xlabel('Density')\n",
    "    ax[0].set_ylabel('NAR')\n",
    "    ax[1].plot(t_1,den_1,'b-',lw=2,label='MANIA 1')\n",
    "    ax[1].plot(t_s,den_s,'g-',lw=2,label='Sparse')\n",
    "    ax[1].plot(t_vd,den_vd,'m-',lw=2,label='Dense')\n",
    "    ax[1].set_xlabel('Threshold')\n",
    "    ax[1].set_ylabel('Density')\n",
    "    ax[1].axvline(threshold_1, color='b', linestyle='dashed', lw=1)\n",
    "    ax[1].axvline(threshold_s, color='g', linestyle='dashed', lw=1)\n",
    "    ax[1].axvline(threshold_vd, color='m', linestyle='dashed', lw=1)\n",
    "    ax[1].axhline(density_1, 0, 1, color='b', linestyle='dashed', lw=1)\n",
    "    ax[1].axhline(density_s, 0, 1, color='g', linestyle='dashed', lw=1)\n",
    "    ax[1].axhline(density_vd, 0, 1, color='m', linestyle='dashed', lw=1)\n",
    "    plt.suptitle(f'Subject: {subject}')\n",
    "    plt.legend()\n",
    "    plt.savefig(f'Images/{subject}.eps')\n",
    "    plt.show()"
   ]
  },
  {
   "cell_type": "code",
   "execution_count": 57,
   "metadata": {},
   "outputs": [
    {
     "data": {
      "application/vnd.jupyter.widget-view+json": {
       "model_id": "0760f6d616934b8bbe9de05d18d9c7b6",
       "version_major": 2,
       "version_minor": 0
      },
      "text/plain": [
       "interactive(children=(Dropdown(description='subject', options=('126426', '135124', '137431', '144125', '146735…"
      ]
     },
     "metadata": {},
     "output_type": "display_data"
    },
    {
     "data": {
      "text/plain": [
       "<function __main__.plot_manias(subject)>"
      ]
     },
     "execution_count": 57,
     "metadata": {},
     "output_type": "execute_result"
    }
   ],
   "source": [
    "interact(plot_manias, subject=[str(x) for x in subjects])"
   ]
  },
  {
   "cell_type": "code",
   "execution_count": 58,
   "metadata": {},
   "outputs": [
    {
     "data": {
      "application/vnd.jupyter.widget-view+json": {
       "model_id": "2124e2dac3c54269b3c2f05be38b31b6",
       "version_major": 2,
       "version_minor": 0
      },
      "text/plain": [
       "FigureCanvasNbAgg()"
      ]
     },
     "metadata": {},
     "output_type": "display_data"
    },
    {
     "data": {
      "application/vnd.jupyter.widget-view+json": {
       "model_id": "87b78cfb6f8c4278890610f71819ea0d",
       "version_major": 2,
       "version_minor": 0
      },
      "text/plain": [
       "FigureCanvasNbAgg()"
      ]
     },
     "metadata": {},
     "output_type": "display_data"
    },
    {
     "data": {
      "application/vnd.jupyter.widget-view+json": {
       "model_id": "89b8e4705c9a422485d5bd43032fd9a5",
       "version_major": 2,
       "version_minor": 0
      },
      "text/plain": [
       "FigureCanvasNbAgg()"
      ]
     },
     "metadata": {},
     "output_type": "display_data"
    },
    {
     "data": {
      "application/vnd.jupyter.widget-view+json": {
       "model_id": "b04c9f0b87bb4a06ad21d9da78704954",
       "version_major": 2,
       "version_minor": 0
      },
      "text/plain": [
       "FigureCanvasNbAgg()"
      ]
     },
     "metadata": {},
     "output_type": "display_data"
    },
    {
     "data": {
      "application/vnd.jupyter.widget-view+json": {
       "model_id": "92cab70136ab4637ae249826743fc626",
       "version_major": 2,
       "version_minor": 0
      },
      "text/plain": [
       "FigureCanvasNbAgg()"
      ]
     },
     "metadata": {},
     "output_type": "display_data"
    },
    {
     "data": {
      "application/vnd.jupyter.widget-view+json": {
       "model_id": "4feb836c631a40dd86a5068071d9bc4e",
       "version_major": 2,
       "version_minor": 0
      },
      "text/plain": [
       "FigureCanvasNbAgg()"
      ]
     },
     "metadata": {},
     "output_type": "display_data"
    },
    {
     "data": {
      "application/vnd.jupyter.widget-view+json": {
       "model_id": "5200593bfbca4410b67ead6022d01b79",
       "version_major": 2,
       "version_minor": 0
      },
      "text/plain": [
       "FigureCanvasNbAgg()"
      ]
     },
     "metadata": {},
     "output_type": "display_data"
    },
    {
     "data": {
      "application/vnd.jupyter.widget-view+json": {
       "model_id": "fe1fdaac81c74097a909993f4fbe9d70",
       "version_major": 2,
       "version_minor": 0
      },
      "text/plain": [
       "FigureCanvasNbAgg()"
      ]
     },
     "metadata": {},
     "output_type": "display_data"
    },
    {
     "data": {
      "application/vnd.jupyter.widget-view+json": {
       "model_id": "e44d1b6d0e2c4367a2d4fee27c975572",
       "version_major": 2,
       "version_minor": 0
      },
      "text/plain": [
       "FigureCanvasNbAgg()"
      ]
     },
     "metadata": {},
     "output_type": "display_data"
    },
    {
     "data": {
      "application/vnd.jupyter.widget-view+json": {
       "model_id": "b0aa5a609354409cada4223286511244",
       "version_major": 2,
       "version_minor": 0
      },
      "text/plain": [
       "FigureCanvasNbAgg()"
      ]
     },
     "metadata": {},
     "output_type": "display_data"
    },
    {
     "data": {
      "application/vnd.jupyter.widget-view+json": {
       "model_id": "6cc2d42db96f41b997163ff935471a7d",
       "version_major": 2,
       "version_minor": 0
      },
      "text/plain": [
       "FigureCanvasNbAgg()"
      ]
     },
     "metadata": {},
     "output_type": "display_data"
    },
    {
     "data": {
      "application/vnd.jupyter.widget-view+json": {
       "model_id": "26b4c4b7d50c4868a04cd3ec71321d2b",
       "version_major": 2,
       "version_minor": 0
      },
      "text/plain": [
       "FigureCanvasNbAgg()"
      ]
     },
     "metadata": {},
     "output_type": "display_data"
    },
    {
     "data": {
      "application/vnd.jupyter.widget-view+json": {
       "model_id": "95b73db642ad4b2f8e5fc6933c0b5138",
       "version_major": 2,
       "version_minor": 0
      },
      "text/plain": [
       "FigureCanvasNbAgg()"
      ]
     },
     "metadata": {},
     "output_type": "display_data"
    },
    {
     "data": {
      "application/vnd.jupyter.widget-view+json": {
       "model_id": "4d0117964a074ac98ae1b5f9b4558aa8",
       "version_major": 2,
       "version_minor": 0
      },
      "text/plain": [
       "FigureCanvasNbAgg()"
      ]
     },
     "metadata": {},
     "output_type": "display_data"
    },
    {
     "data": {
      "application/vnd.jupyter.widget-view+json": {
       "model_id": "f9994fb36eeb47708f5a8df3ee967144",
       "version_major": 2,
       "version_minor": 0
      },
      "text/plain": [
       "FigureCanvasNbAgg()"
      ]
     },
     "metadata": {},
     "output_type": "display_data"
    },
    {
     "data": {
      "application/vnd.jupyter.widget-view+json": {
       "model_id": "867a8ae539c64c42a9aad441cf317638",
       "version_major": 2,
       "version_minor": 0
      },
      "text/plain": [
       "FigureCanvasNbAgg()"
      ]
     },
     "metadata": {},
     "output_type": "display_data"
    },
    {
     "data": {
      "application/vnd.jupyter.widget-view+json": {
       "model_id": "a659d6592edc4f8188280b853c4bb900",
       "version_major": 2,
       "version_minor": 0
      },
      "text/plain": [
       "FigureCanvasNbAgg()"
      ]
     },
     "metadata": {},
     "output_type": "display_data"
    },
    {
     "data": {
      "application/vnd.jupyter.widget-view+json": {
       "model_id": "e3640043b7b441aea7c495fa453006b0",
       "version_major": 2,
       "version_minor": 0
      },
      "text/plain": [
       "FigureCanvasNbAgg()"
      ]
     },
     "metadata": {},
     "output_type": "display_data"
    },
    {
     "data": {
      "application/vnd.jupyter.widget-view+json": {
       "model_id": "dd0f0b0856b0448c87b5418755d25b8b",
       "version_major": 2,
       "version_minor": 0
      },
      "text/plain": [
       "FigureCanvasNbAgg()"
      ]
     },
     "metadata": {},
     "output_type": "display_data"
    },
    {
     "data": {
      "application/vnd.jupyter.widget-view+json": {
       "model_id": "5bf4447701c7452f9b49aa7dc7449104",
       "version_major": 2,
       "version_minor": 0
      },
      "text/plain": [
       "FigureCanvasNbAgg()"
      ]
     },
     "metadata": {},
     "output_type": "display_data"
    },
    {
     "data": {
      "application/vnd.jupyter.widget-view+json": {
       "model_id": "cf0e66257bd9444cb47f131852261753",
       "version_major": 2,
       "version_minor": 0
      },
      "text/plain": [
       "FigureCanvasNbAgg()"
      ]
     },
     "metadata": {},
     "output_type": "display_data"
    },
    {
     "data": {
      "application/vnd.jupyter.widget-view+json": {
       "model_id": "c4f893a91f5e42ccbe72fde3da1e9aab",
       "version_major": 2,
       "version_minor": 0
      },
      "text/plain": [
       "FigureCanvasNbAgg()"
      ]
     },
     "metadata": {},
     "output_type": "display_data"
    },
    {
     "data": {
      "application/vnd.jupyter.widget-view+json": {
       "model_id": "45117ecbe1634c2da2a4d3a6b2cd69dc",
       "version_major": 2,
       "version_minor": 0
      },
      "text/plain": [
       "FigureCanvasNbAgg()"
      ]
     },
     "metadata": {},
     "output_type": "display_data"
    },
    {
     "data": {
      "application/vnd.jupyter.widget-view+json": {
       "model_id": "f3a56f70c5424b83b5696904efe6a472",
       "version_major": 2,
       "version_minor": 0
      },
      "text/plain": [
       "FigureCanvasNbAgg()"
      ]
     },
     "metadata": {},
     "output_type": "display_data"
    },
    {
     "data": {
      "application/vnd.jupyter.widget-view+json": {
       "model_id": "8c210e01443b40dfbc6a450aec6b2cdd",
       "version_major": 2,
       "version_minor": 0
      },
      "text/plain": [
       "FigureCanvasNbAgg()"
      ]
     },
     "metadata": {},
     "output_type": "display_data"
    },
    {
     "data": {
      "application/vnd.jupyter.widget-view+json": {
       "model_id": "e8dc4b95f10e4d18be04a52a98c847b8",
       "version_major": 2,
       "version_minor": 0
      },
      "text/plain": [
       "FigureCanvasNbAgg()"
      ]
     },
     "metadata": {},
     "output_type": "display_data"
    },
    {
     "data": {
      "application/vnd.jupyter.widget-view+json": {
       "model_id": "76f13e4ddb6f4560800d4c25cb9cb68f",
       "version_major": 2,
       "version_minor": 0
      },
      "text/plain": [
       "FigureCanvasNbAgg()"
      ]
     },
     "metadata": {},
     "output_type": "display_data"
    },
    {
     "data": {
      "application/vnd.jupyter.widget-view+json": {
       "model_id": "286196cd9d074a14aeb2313f09149942",
       "version_major": 2,
       "version_minor": 0
      },
      "text/plain": [
       "FigureCanvasNbAgg()"
      ]
     },
     "metadata": {},
     "output_type": "display_data"
    },
    {
     "data": {
      "application/vnd.jupyter.widget-view+json": {
       "model_id": "f3d9dfb62b9e4613ac5e50b5e1c7e9ec",
       "version_major": 2,
       "version_minor": 0
      },
      "text/plain": [
       "FigureCanvasNbAgg()"
      ]
     },
     "metadata": {},
     "output_type": "display_data"
    },
    {
     "data": {
      "application/vnd.jupyter.widget-view+json": {
       "model_id": "70eb64db4e0b4bb7b3ab9f8538b0425d",
       "version_major": 2,
       "version_minor": 0
      },
      "text/plain": [
       "FigureCanvasNbAgg()"
      ]
     },
     "metadata": {},
     "output_type": "display_data"
    },
    {
     "data": {
      "application/vnd.jupyter.widget-view+json": {
       "model_id": "008c768145fc4045a1d1471270a817f5",
       "version_major": 2,
       "version_minor": 0
      },
      "text/plain": [
       "FigureCanvasNbAgg()"
      ]
     },
     "metadata": {},
     "output_type": "display_data"
    },
    {
     "data": {
      "application/vnd.jupyter.widget-view+json": {
       "model_id": "eda2059db11844ca92ebf2319474367f",
       "version_major": 2,
       "version_minor": 0
      },
      "text/plain": [
       "FigureCanvasNbAgg()"
      ]
     },
     "metadata": {},
     "output_type": "display_data"
    },
    {
     "data": {
      "application/vnd.jupyter.widget-view+json": {
       "model_id": "aa9ca754b5f44cd49c96d8f5e96f7e9d",
       "version_major": 2,
       "version_minor": 0
      },
      "text/plain": [
       "FigureCanvasNbAgg()"
      ]
     },
     "metadata": {},
     "output_type": "display_data"
    },
    {
     "data": {
      "application/vnd.jupyter.widget-view+json": {
       "model_id": "c14618fd2f7042dcb0ac65d32b371eb4",
       "version_major": 2,
       "version_minor": 0
      },
      "text/plain": [
       "FigureCanvasNbAgg()"
      ]
     },
     "metadata": {},
     "output_type": "display_data"
    },
    {
     "data": {
      "application/vnd.jupyter.widget-view+json": {
       "model_id": "265f24fc0eff4941b82fb53b0b41970d",
       "version_major": 2,
       "version_minor": 0
      },
      "text/plain": [
       "FigureCanvasNbAgg()"
      ]
     },
     "metadata": {},
     "output_type": "display_data"
    },
    {
     "data": {
      "application/vnd.jupyter.widget-view+json": {
       "model_id": "ac69205620364f0f96e56967425c84c8",
       "version_major": 2,
       "version_minor": 0
      },
      "text/plain": [
       "FigureCanvasNbAgg()"
      ]
     },
     "metadata": {},
     "output_type": "display_data"
    },
    {
     "data": {
      "application/vnd.jupyter.widget-view+json": {
       "model_id": "f5d41853b89545f39277c4d3ed893aeb",
       "version_major": 2,
       "version_minor": 0
      },
      "text/plain": [
       "FigureCanvasNbAgg()"
      ]
     },
     "metadata": {},
     "output_type": "display_data"
    }
   ],
   "source": [
    "for subject in subjects:\n",
    "    plot_manias(subject)"
   ]
  },
  {
   "cell_type": "markdown",
   "metadata": {},
   "source": [
    "# Analysis"
   ]
  },
  {
   "cell_type": "code",
   "execution_count": 1,
   "metadata": {},
   "outputs": [],
   "source": [
    "sub_train = [126426, 137431, 144125, 146735, 152427, 153227, 177140, 180533, 186545, 188145]"
   ]
  },
  {
   "cell_type": "code",
   "execution_count": null,
   "metadata": {},
   "outputs": [],
   "source": []
  },
  {
   "cell_type": "markdown",
   "metadata": {},
   "source": [
    "# Histogram of f(e)"
   ]
  },
  {
   "cell_type": "code",
   "execution_count": 13,
   "metadata": {},
   "outputs": [],
   "source": [
    "def is_corrected(st_type, is_sparse):\n",
    "    if is_sparse:\n",
    "        return st_type in ['Independent']\n",
    "    else:\n",
    "        return st_type in ['Independent', 'direction1', 'direction2', 'poolAll', 'poolEnvelopes', 'one direction']\n",
    "\n",
    "def is_corrected_sparse(row):\n",
    "    return is_corrected(row['ST_Type'], True)\n",
    "\n",
    "def is_corrected_not_sparse(row):\n",
    "    return is_corrected(row['ST_Type'], False)"
   ]
  },
  {
   "cell_type": "code",
   "execution_count": 5,
   "metadata": {},
   "outputs": [],
   "source": [
    "total_connected_l_sp = np.zeros((181,181))\n",
    "total_connected_r_sp = np.zeros((181,181))\n",
    "total_connected_l_vd = np.zeros((181,181))\n",
    "total_connected_r_vd = np.zeros((181,181))\n",
    "total_connected_l_1 = np.zeros((181,181))\n",
    "total_connected_r_1 = np.zeros((181,181))\n",
    "\n",
    "for i in range(1, 181):\n",
    "    for j in range(1, 181):\n",
    "        if i == j:\n",
    "            continue\n",
    "        source_l, target_l = 'L%d' % i, 'L%d' % j\n",
    "        source_r, target_r = 'R%d' % i, 'R%d' % j\n",
    "        for sub_i in subjects:\n",
    "            if network_l_sp(sub_i).is_connected(source_l, target_l):\n",
    "                total_connected_l_sp[i,j] += 1\n",
    "            if network_r_sp(sub_i).is_connected(source_r, target_r):\n",
    "                total_connected_r_sp[i,j] += 1\n",
    "            if network_l_vd(sub_i).is_connected(source_l, target_l):\n",
    "                total_connected_l_vd[i,j] += 1\n",
    "            if network_r_vd(sub_i).is_connected(source_r, target_r):\n",
    "                total_connected_r_vd[i,j] += 1\n",
    "            if network_l_vd(sub_i).is_connected(source_l, target_l, mania2=False):\n",
    "                total_connected_l_1[i,j] += 1\n",
    "            if network_r_vd(sub_i).is_connected(source_r, target_r, mania2=False):\n",
    "                total_connected_r_1[i,j] += 1"
   ]
  },
  {
   "cell_type": "code",
   "execution_count": 20,
   "metadata": {},
   "outputs": [],
   "source": [
    "def get_counts(network, hemisphere, is_sparse):\n",
    "    is_dc = np.zeros((181,181), dtype=bool)\n",
    "    num_connected = np.zeros((181,181), dtype=int)\n",
    "\n",
    "    for i in range(1,181):\n",
    "        for j in range(1,181):\n",
    "            if i == j:\n",
    "                continue\n",
    "            source, target = '%s%d' % (hemisphere, i), '%s%d' % (hemisphere, j)\n",
    "            dc = False\n",
    "            n_conn = 0\n",
    "            n_dc = 0\n",
    "            for sub in subjects:\n",
    "                st = network(sub)(source, target, pair=False)\n",
    "                st._mania_loaded = True\n",
    "                st._threshold2 = np.log(network(sub).threshold2/5000.)\n",
    "                if is_corrected(st.get_type(), is_sparse=is_sparse):\n",
    "                    n_dc += 1\n",
    "                if st.isConnected():\n",
    "                    num_connected[i,j] += 1\n",
    "            if n_dc > 0:\n",
    "                is_dc[i,j] = True\n",
    "\n",
    "    count_dc = np.zeros(len(subjects) + 1, dtype=int)\n",
    "    count_nc = np.zeros(len(subjects) + 1, dtype=int)\n",
    "\n",
    "    for i in range(1,181):\n",
    "        for j in range(1,181):\n",
    "            if i == j:\n",
    "                continue\n",
    "            if is_dc[i,j]:\n",
    "                count_dc[num_connected[i,j]] += 1\n",
    "            else:\n",
    "                count_nc[num_connected[i,j]] += 1\n",
    "    return (is_dc, num_connected, count_dc, count_nc)"
   ]
  },
  {
   "cell_type": "code",
   "execution_count": 24,
   "metadata": {},
   "outputs": [],
   "source": [
    "def plot_counts(count_dc, count_nc, title, out_file=None):\n",
    "    plt.figure()\n",
    "    b1 = plt.bar(range(len(subjects) + 1), count_dc)\n",
    "    b2 = plt.bar(range(len(subjects) + 1), count_nc)\n",
    "    plt.xlabel('#Subjects with Connection present')\n",
    "    plt.ylabel('# Links')\n",
    "    plt.title(title)\n",
    "    plt.legend((b1[0], b2[0]), ('Distance Corrected', 'Not Distance Corrected'))\n",
    "    plt.grid()\n",
    "    if out_file is not None:\n",
    "        plt.savefig(out_file)\n",
    "    plt.show()"
   ]
  },
  {
   "cell_type": "code",
   "execution_count": 26,
   "metadata": {},
   "outputs": [],
   "source": [
    "is_dc_l_sp, num_connected_l_sp, count_dc_l_sp, count_nc_l_sp = get_counts(network_l_sp, 'L', True)\n",
    "is_dc_r_sp, num_connected_r_sp, count_dc_r_sp, count_nc_r_sp = get_counts(network_r_sp, 'R', True)\n",
    "is_dc_l_vd, num_connected_l_vd, count_dc_l_vd, count_nc_l_vd = get_counts(network_l_vd, 'L', False)\n",
    "is_dc_r_vd, num_connected_r_vd, count_dc_r_vd, count_nc_r_vd = get_counts(network_r_vd, 'R', False)"
   ]
  },
  {
   "cell_type": "code",
   "execution_count": 27,
   "metadata": {},
   "outputs": [
    {
     "data": {
      "application/vnd.jupyter.widget-view+json": {
       "model_id": "43f82cfb3f9b4cf9b7ce8a465fbafb40",
       "version_major": 2,
       "version_minor": 0
      },
      "text/plain": [
       "FigureCanvasNbAgg()"
      ]
     },
     "metadata": {},
     "output_type": "display_data"
    },
    {
     "data": {
      "application/vnd.jupyter.widget-view+json": {
       "model_id": "3693ee210fd149b7b22a063aef903882",
       "version_major": 2,
       "version_minor": 0
      },
      "text/plain": [
       "FigureCanvasNbAgg()"
      ]
     },
     "metadata": {},
     "output_type": "display_data"
    },
    {
     "data": {
      "application/vnd.jupyter.widget-view+json": {
       "model_id": "ac77d3705e6a4badb110f35098ebbd24",
       "version_major": 2,
       "version_minor": 0
      },
      "text/plain": [
       "FigureCanvasNbAgg()"
      ]
     },
     "metadata": {},
     "output_type": "display_data"
    },
    {
     "data": {
      "application/vnd.jupyter.widget-view+json": {
       "model_id": "a32ff1a863ea4870acb0307dbbf15f4e",
       "version_major": 2,
       "version_minor": 0
      },
      "text/plain": [
       "FigureCanvasNbAgg()"
      ]
     },
     "metadata": {},
     "output_type": "display_data"
    }
   ],
   "source": [
    "plot_counts(count_dc_l_sp, count_nc_l_sp, 'Left Hemisphere - Sparse Network', 'Images/All_Subjects/Counts_L_sp.eps')\n",
    "plot_counts(count_dc_r_sp, count_nc_r_sp, 'Right Hemisphere - Sparse Network', 'Images/All_Subjects/Counts_R_sp.eps')\n",
    "plot_counts(count_dc_l_vd, count_nc_l_vd, 'Left Hemisphere - Dense Network', 'Images/All_Subjects/Counts_L_vd.eps')\n",
    "plot_counts(count_dc_r_vd, count_nc_r_vd, 'Right Hemisphere - Dense Network', 'Images/All_Subjects/Counts_R_vd.eps')"
   ]
  },
  {
   "cell_type": "markdown",
   "metadata": {},
   "source": [
    "# F Score"
   ]
  },
  {
   "cell_type": "code",
   "execution_count": 54,
   "metadata": {},
   "outputs": [],
   "source": [
    "def plot_f_score(network, hemisphere, is_sparse, title, out_file=None):\n",
    "    f = np.zeros((181,181))\n",
    "    F1_all = dict()\n",
    "    n_sub = len(subjects)\n",
    "    \n",
    "    for subject in subjects:\n",
    "        counter = 0\n",
    "        for i in range(1,181):\n",
    "            for j in range(1,181):\n",
    "                if i == j:\n",
    "                    continue\n",
    "                source, target = '%s%d' % (hemisphere, i), '%s%d' % (hemisphere, j)\n",
    "                st = network(subject)(source, target, pair=False)\n",
    "                st._mania_loaded = True\n",
    "                st._threshold1 = np.log(network(subject).threshold1/5000.)\n",
    "                st._threshold2 = np.log(network(subject).threshold2/5000.)\n",
    "                if st.isConnected():\n",
    "                    f[i,j] += 1.\n",
    "    for i in range(1,181):\n",
    "        for j in range(1,181):\n",
    "            f[i,j] /= n_sub\n",
    "\n",
    "    deltas = [(x+0.5)/n_sub for x in range(int(n_sub/2))]\n",
    "    counts_all = dict()\n",
    "\n",
    "    plt.figure(figsize=(7,10))\n",
    "    for sub in subjects:\n",
    "        F1, counts = [], []\n",
    "        for delta in deltas:\n",
    "            TP, FP, TN, FN = 0., 0., 0., 0.\n",
    "            counter = 0\n",
    "            for i in range(1,181):\n",
    "                for j in range(1,181):\n",
    "                    if i == j:\n",
    "                        continue\n",
    "                    source, target = '%s%d' % (hemisphere, i), '%s%d' % (hemisphere, j)\n",
    "\n",
    "                    st = network(sub)(source, target, pair=False)\n",
    "                    st._mania_loaded = True\n",
    "                    st._threshold2 = np.log(network(sub).threshold2/5000.)\n",
    "                    if is_corrected(st.get_type(), is_sparse=is_sparse):\n",
    "                        c = 1\n",
    "                    else:\n",
    "                        continue\n",
    "\n",
    "                    if f[i,j] > 0.5 + delta:\n",
    "                        counter += 1\n",
    "                        if st.isConnected():\n",
    "                            TP += 1\n",
    "                        else:\n",
    "                            FN += 1\n",
    "                    elif f[i,j] < 0.5 - delta:\n",
    "                        counter += 1\n",
    "                        if st.isConnected():\n",
    "                            FP += 1\n",
    "                        else:\n",
    "                            TN += 1\n",
    "            precision = TP / (TP + FP)\n",
    "            recall = TP / (TP + FN)\n",
    "            F1.append(2 * (precision * recall) / (precision + recall))\n",
    "            counts.append(counter)\n",
    "        F1_all[sub] = F1\n",
    "        counts_all[sub] = counts\n",
    "        plt.subplot(211)\n",
    "        plt.plot(deltas, F1, label=str(sub))\n",
    "        plt.subplot(212)\n",
    "        plt.plot(deltas, counts, label=str(sub))\n",
    "    plt.subplot(211)\n",
    "    plt.xlabel('Delta')\n",
    "    plt.ylabel('F1 Score')\n",
    "    plt.title(title)\n",
    "    plt.legend(bbox_to_anchor=(1.04,1), loc=\"upper left\")\n",
    "    plt.grid()\n",
    "\n",
    "    plt.subplot(212)\n",
    "    plt.xlabel('Delta')\n",
    "    plt.ylabel('Number of Links')\n",
    "    plt.grid()\n",
    "\n",
    "    if out_file is not None:\n",
    "        plt.savefig(out_file)\n",
    "    plt.show()"
   ]
  },
  {
   "cell_type": "code",
   "execution_count": 58,
   "metadata": {},
   "outputs": [
    {
     "name": "stderr",
     "output_type": "stream",
     "text": [
      "/net/ht140/manoj/Softwares/anaconda3/lib/python3.6/site-packages/matplotlib/pyplot.py:522: RuntimeWarning: More than 20 figures have been opened. Figures created through the pyplot interface (`matplotlib.pyplot.figure`) are retained until explicitly closed and may consume too much memory. (To control this warning, see the rcParam `figure.max_open_warning`).\n",
      "  max_open_warning, RuntimeWarning)\n"
     ]
    },
    {
     "data": {
      "application/vnd.jupyter.widget-view+json": {
       "model_id": "28eb87bb1e014570b43f540e0a1a34f4",
       "version_major": 2,
       "version_minor": 0
      },
      "text/plain": [
       "FigureCanvasNbAgg()"
      ]
     },
     "metadata": {},
     "output_type": "display_data"
    },
    {
     "name": "stderr",
     "output_type": "stream",
     "text": [
      "/net/ht140/manoj/Softwares/anaconda3/lib/python3.6/site-packages/matplotlib/cbook/deprecation.py:107: MatplotlibDeprecationWarning: Adding an axes using the same arguments as a previous axes currently reuses the earlier instance.  In a future version, a new instance will always be created and returned.  Meanwhile, this warning can be suppressed, and the future behavior ensured, by passing a unique label to each axes instance.\n",
      "  warnings.warn(message, mplDeprecation, stacklevel=1)\n"
     ]
    },
    {
     "data": {
      "application/vnd.jupyter.widget-view+json": {
       "model_id": "c84abbe0741640f682e105eaebcdbdba",
       "version_major": 2,
       "version_minor": 0
      },
      "text/plain": [
       "FigureCanvasNbAgg()"
      ]
     },
     "metadata": {},
     "output_type": "display_data"
    },
    {
     "data": {
      "application/vnd.jupyter.widget-view+json": {
       "model_id": "f50f521a3cfe4b419af6319f1a0da726",
       "version_major": 2,
       "version_minor": 0
      },
      "text/plain": [
       "FigureCanvasNbAgg()"
      ]
     },
     "metadata": {},
     "output_type": "display_data"
    },
    {
     "data": {
      "application/vnd.jupyter.widget-view+json": {
       "model_id": "4b2fef3b645b49ad80bd8d303d0666ba",
       "version_major": 2,
       "version_minor": 0
      },
      "text/plain": [
       "FigureCanvasNbAgg()"
      ]
     },
     "metadata": {},
     "output_type": "display_data"
    }
   ],
   "source": [
    "plot_f_score(network_l_sp, 'L', True, 'F1 Score - Left - Sparse', 'Images/All_Subjects/F1_L_sp.eps')\n",
    "plot_f_score(network_r_sp, 'R', True, 'F1 Score - Right - Sparse', 'Images/All_Subjects/F1_R_sp.eps')\n",
    "plot_f_score(network_l_vd, 'L', False, 'F1 Score - Left - Dense', 'Images/All_Subjects/F1_L_vd.eps')\n",
    "plot_f_score(network_r_vd, 'R', False, 'F1 Score - Right - Dense', 'Images/All_Subjects/F1_R_vd.eps')"
   ]
  },
  {
   "cell_type": "code",
   "execution_count": null,
   "metadata": {},
   "outputs": [],
   "source": []
  }
 ],
 "metadata": {
  "kernelspec": {
   "display_name": "Python 3",
   "language": "python",
   "name": "python3"
  },
  "language_info": {
   "codemirror_mode": {
    "name": "ipython",
    "version": 3
   },
   "file_extension": ".py",
   "mimetype": "text/x-python",
   "name": "python",
   "nbconvert_exporter": "python",
   "pygments_lexer": "ipython3",
   "version": "3.6.8"
  }
 },
 "nbformat": 4,
 "nbformat_minor": 2
}
